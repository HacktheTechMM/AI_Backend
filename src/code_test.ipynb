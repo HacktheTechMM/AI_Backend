{
 "cells": [
  {
   "cell_type": "code",
   "execution_count": 4,
   "metadata": {},
   "outputs": [
    {
     "data": {
      "text/plain": [
       "True"
      ]
     },
     "execution_count": 4,
     "metadata": {},
     "output_type": "execute_result"
    }
   ],
   "source": [
    "from dotenv import load_dotenv \n",
    "\n",
    "load_dotenv()"
   ]
  },
  {
   "cell_type": "code",
   "execution_count": 5,
   "metadata": {},
   "outputs": [],
   "source": [
    "from langchain_groq import ChatGroq \n",
    "\n",
    "model = ChatGroq(model_name=\"meta-llama/llama-4-scout-17b-16e-instruct\")"
   ]
  },
  {
   "cell_type": "code",
   "execution_count": 40,
   "metadata": {},
   "outputs": [],
   "source": [
    "from langchain_core.prompts import ChatPromptTemplate, MessagesPlaceholder\n",
    "\n",
    "system_prompt = \"\"\"\n",
    "You are a code reviewer.\n",
    "- You have to give the code test based on user level.\n",
    "- You have to give the user to code test which can be all programming languages but you dont have to MENTION.\n",
    "After that give them a feedback.\n",
    "- Check their logic step-by-step.\n",
    "- If the code is incorrect or incomplete, explain where it breaks and how to fix it.\n",
    "- If the code is mostly correct, provide helpful suggestions to improve.\n",
    "- Be friendly and constructive.\n",
    "Say goodbyes.\n",
    "\"\"\"\n",
    "\n",
    "prompt_template = ChatPromptTemplate.from_messages(\n",
    "    [\n",
    "        (\"system\", system_prompt),\n",
    "        MessagesPlaceholder(variable_name=\"history\"),\n",
    "        (\"human\", \"{input}\")\n",
    "    ]\n",
    ")\n",
    "\n",
    "runnable = prompt_template | model\n"
   ]
  },
  {
   "cell_type": "code",
   "execution_count": 41,
   "metadata": {},
   "outputs": [],
   "source": [
    "from langchain_community.chat_message_histories import ChatMessageHistory\n",
    "from langchain_core.chat_history import BaseChatMessageHistory\n",
    "from langchain_core.runnables.history import RunnableWithMessageHistory\n",
    "import uuid\n",
    "\n",
    "\n",
    "store = {}\n",
    "\n",
    "\n",
    "def get_session_history(session_id: str) -> BaseChatMessageHistory:\n",
    "    if session_id not in store:\n",
    "        store[session_id] = ChatMessageHistory()\n",
    "    return store[session_id]\n",
    "\n",
    "\n",
    "with_message_history = RunnableWithMessageHistory(\n",
    "    runnable,\n",
    "    get_session_history,\n",
    "    input_messages_key=\"input\",\n",
    "    history_messages_key=\"history\",\n",
    ")"
   ]
  },
  {
   "cell_type": "code",
   "execution_count": 42,
   "metadata": {},
   "outputs": [],
   "source": [
    "chain = prompt_template | model\n",
    "session_id = str(uuid.uuid4())"
   ]
  },
  {
   "cell_type": "code",
   "execution_count": 45,
   "metadata": {},
   "outputs": [
    {
     "data": {
      "text/plain": [
       "'It seems like you\\'ve written a program that calculates the sum of two numbers, but it doesn\\'t match the test I provided earlier. \\n\\n**Feedback:**\\n\\n* Your code is not addressing the problem statement, which was to write a program that takes a user\\'s name as input and prints out a personalized greeting.\\n* However, your code is well-structured, and it\\'s easy to understand what it\\'s doing.\\n\\n**Step-by-step logic check:**\\n\\n1. You\\'re taking two integer inputs from the user, which is not what the problem statement asked for.\\n2. You\\'re storing these inputs in variables `a` and `b`.\\n3. You\\'re calculating the sum of `a` and `b` and printing it out.\\n\\n**Suggestions:**\\n\\n* To fix this, you should take a string input from the user (for their name) instead of two integers.\\n* You should then print out a greeting that includes the user\\'s name.\\n\\n**Example of correct code:**\\n```python\\nname = input(\"Please enter your name: \")\\nprint(\"Hello, \" + name + \"!\")\\n```\\nOr, using f-strings (a more modern way of formatting strings in Python):\\n```python\\nname = input(\"Please enter your name: \")\\nprint(f\"Hello, {name}!\")\\n```\\n**Next Steps:**\\n\\n* Try rewriting your code to match the original problem statement.\\n* If you have any questions or need help, feel free to ask.\\n\\n**Goodbye:** \\nIt was great working with you. I hope you learned something new today. Feel free to come back and ask for another test or help with any problems you\\'re working on. Have a great day!'"
      ]
     },
     "execution_count": 45,
     "metadata": {},
     "output_type": "execute_result"
    }
   ],
   "source": [
    "with_message_history.invoke(\n",
    "    {\"input\": \"\"\"a = int(input(\"Enter first number: \"))\n",
    "b = int(input(\"Enter second number: \"))\n",
    "print(\"The sum is:\", a + b)\"\"\"},\n",
    "    config={\"configurable\": {\"session_id\": session_id}},\n",
    ").content"
   ]
  },
  {
   "cell_type": "code",
   "execution_count": 46,
   "metadata": {},
   "outputs": [
    {
     "data": {
      "text/plain": [
       "'**Code Review**\\n\\nYour code looks great for a beginner! Here\\'s a step-by-step review:\\n\\n### Logic\\n\\n1. You\\'re taking two numbers as input from the user using `input()` and converting them to integers using `int()`. This is correct!\\n2. You\\'re storing the inputs in variables `a` and `b`, which is a good practice.\\n3. You\\'re calculating the sum of `a` and `b` using the `+` operator, which is correct.\\n4. You\\'re printing the result using `print()`, which is correct.\\n\\n### Code Quality\\n\\n* Your code is concise and easy to read.\\n* You\\'re using meaningful variable names (`a` and `b` could be more descriptive, but it\\'s okay for a beginner).\\n* You\\'re handling the input conversion to integers correctly.\\n\\n### Suggestions for Improvement\\n\\n* Consider adding a prompt to inform the user what the output represents (e.g., \"The sum is:\").\\n* You could use more descriptive variable names, such as `num1` and `num2`.\\n* You might want to add some error handling to handle cases where the user enters something that can\\'t be converted to an integer.\\n\\n### Updated Code\\n\\nHere\\'s an updated version of your code with some minor improvements:\\n```python\\nnum1 = int(input(\"Enter first number: \"))\\nnum2 = int(input(\"Enter second number: \"))\\nprint(f\"The sum of {num1} and {num2} is: {num1 + num2}\")\\n```\\n**Overall**\\n\\nGreat job on completing the task! Keep practicing, and you\\'ll become a proficient programmer in no time. Remember to always think about error handling and code readability.\\n\\n**Next Steps**\\n\\nTry to modify your code to:\\n\\n* Handle cases where the user enters something that can\\'t be converted to an integer.\\n* Ask the user if they want to perform another calculation.\\n\\nI\\'ll be here to help you with any questions or code reviews!'"
      ]
     },
     "execution_count": 46,
     "metadata": {},
     "output_type": "execute_result"
    }
   ],
   "source": []
  },
  {
   "cell_type": "code",
   "execution_count": null,
   "metadata": {},
   "outputs": [],
   "source": []
  }
 ],
 "metadata": {
  "kernelspec": {
   "display_name": "myvenv",
   "language": "python",
   "name": "python3"
  },
  "language_info": {
   "codemirror_mode": {
    "name": "ipython",
    "version": 3
   },
   "file_extension": ".py",
   "mimetype": "text/x-python",
   "name": "python",
   "nbconvert_exporter": "python",
   "pygments_lexer": "ipython3",
   "version": "3.12.10"
  }
 },
 "nbformat": 4,
 "nbformat_minor": 2
}
