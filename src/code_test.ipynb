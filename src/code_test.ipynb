{
 "cells": [
  {
   "cell_type": "code",
   "execution_count": null,
   "metadata": {},
   "outputs": [
    {
     "data": {
      "text/plain": [
       "True"
      ]
     },
     "execution_count": 9,
     "metadata": {},
     "output_type": "execute_result"
    }
   ],
   "source": [
    "from dotenv import load_dotenv \n",
    "\n",
    "load_dotenv()"
   ]
  },
  {
   "cell_type": "code",
   "execution_count": null,
   "metadata": {},
   "outputs": [],
   "source": [
    "from langchain_groq import ChatGroq \n",
    "\n",
    "model = ChatGroq(model_name=\"meta-llama/llama-4-scout-17b-16e-instruct\")"
   ]
  },
  {
   "cell_type": "code",
   "execution_count": 11,
   "metadata": {},
   "outputs": [],
   "source": [
    "from langchain_core.prompts import ChatPromptTemplate, MessagesPlaceholder\n",
    "\n",
    "system_prompt = \"\"\"\n",
    "Give 3 Code Test Questions.\n",
    "You are a code reviewer.\n",
    "- You have to give the code test based on user level.\n",
    "- You have to give the user to code test which can be all programming languages but you dont have to MENTION.\n",
    "After that give them a feedback.\n",
    "- Check their logic step-by-step.\n",
    "- If the code is incorrect or incomplete, explain where it breaks and how to fix it.\n",
    "- If the code is mostly correct, provide helpful suggestions to improve.\n",
    "- Be friendly and constructive.\n",
    "Say goodbyes.\n",
    "\"\"\"\n",
    "\n",
    "prompt_template = ChatPromptTemplate.from_messages(\n",
    "    [\n",
    "        (\"system\", system_prompt),\n",
    "        MessagesPlaceholder(variable_name=\"history\"),\n",
    "        (\"human\", \"{input}\")\n",
    "    ]\n",
    ")\n",
    "\n",
    "runnable = prompt_template | model\n"
   ]
  },
  {
   "cell_type": "code",
   "execution_count": 12,
   "metadata": {},
   "outputs": [],
   "source": [
    "from langchain_community.chat_message_histories import ChatMessageHistory\n",
    "from langchain_core.chat_history import BaseChatMessageHistory\n",
    "from langchain_core.runnables.history import RunnableWithMessageHistory\n",
    "import uuid\n",
    "\n",
    "\n",
    "store = {}\n",
    "\n",
    "\n",
    "def get_session_history(session_id: str) -> BaseChatMessageHistory:\n",
    "    if session_id not in store:\n",
    "        store[session_id] = ChatMessageHistory()\n",
    "    return store[session_id]\n",
    "\n",
    "\n",
    "with_message_history = RunnableWithMessageHistory(\n",
    "    runnable,\n",
    "    get_session_history,\n",
    "    input_messages_key=\"input\",\n",
    "    history_messages_key=\"history\",\n",
    ")"
   ]
  },
  {
   "cell_type": "code",
   "execution_count": 13,
   "metadata": {},
   "outputs": [],
   "source": [
    "chain = prompt_template | model\n",
    "session_id = str(uuid.uuid4())"
   ]
  },
  {
   "cell_type": "code",
   "execution_count": 17,
   "metadata": {},
   "outputs": [
    {
     "data": {
      "text/plain": [
       "'**Code Review**\\n\\nYour code looks clean and straightforward. Here\\'s a breakdown of what you\\'re doing:\\n\\n1. You\\'re defining a function `check_voting_eligibility` that takes no arguments.\\n2. You\\'re using a `try`-`except` block to catch any `ValueError` exceptions that might occur when trying to convert the user\\'s input to an integer.\\n3. You\\'re prompting the user to enter their age and storing it in the `age` variable.\\n4. You\\'re checking if the user\\'s age is greater than or equal to 18 and printing out a message indicating whether they\\'re eligible to vote or not.\\n\\n**Feedback**\\n\\n* Your code is well-structured and easy to read.\\n* You\\'re handling potential errors by catching `ValueError` exceptions.\\n* Your function name is descriptive and indicates what the function does.\\n\\n**Suggestions**\\n\\n* Consider adding a docstring to your function to describe what it does, what inputs it expects, and what outputs it produces.\\n* You might want to consider adding a loop to allow the user to try again if they enter an invalid input (e.g., a string instead of a number).\\n* You could also consider adding a more informative error message when the user enters an invalid input.\\n\\n**Updated Code**\\n\\n```python\\ndef check_voting_eligibility():\\n \"\"\"\\n Checks if a user is eligible to vote based on their age.\\n\\n Prompts the user to enter their age and prints out a message indicating\\n whether they\\'re eligible to vote or not.\\n \"\"\"\\n while True:\\n try:\\n age = int(input(\"Enter your age: \"))\\n if age >= 18:\\n print(\"You are eligible to vote.\")\\n else:\\n print(\"You are not eligible to vote yet.\")\\n break\\n except ValueError:\\n print(\"Please enter a valid number for age.\")\\n\\ncheck_voting_eligibility()\\n```\\n\\n**Goodbye!**'"
      ]
     },
     "execution_count": 17,
     "metadata": {},
     "output_type": "execute_result"
    }
   ],
   "source": [
    "with_message_history.invoke(\n",
    "    {\"input\": \"\"\"def check_voting_eligibility():\n",
    "    try:\n",
    "        age = int(input(\"Enter your age: \"))\n",
    "        if age >= 18:\n",
    "            print(\"You are eligible to vote.\")\n",
    "        else:\n",
    "            print(\"You are not eligible to vote yet.\")\n",
    "    except ValueError:\n",
    "        print(\"Please enter a valid number for age.\")\n",
    "\n",
    "check_voting_eligibility()\n",
    "\"\"\"},\n",
    "    config={\"configurable\": {\"session_id\": session_id}},\n",
    ").content"
   ]
  },
  {
   "cell_type": "code",
   "execution_count": 46,
   "metadata": {},
   "outputs": [
    {
     "data": {
      "text/plain": [
       "'**Code Review**\\n\\nYour code looks great for a beginner! Here\\'s a step-by-step review:\\n\\n### Logic\\n\\n1. You\\'re taking two numbers as input from the user using `input()` and converting them to integers using `int()`. This is correct!\\n2. You\\'re storing the inputs in variables `a` and `b`, which is a good practice.\\n3. You\\'re calculating the sum of `a` and `b` using the `+` operator, which is correct.\\n4. You\\'re printing the result using `print()`, which is correct.\\n\\n### Code Quality\\n\\n* Your code is concise and easy to read.\\n* You\\'re using meaningful variable names (`a` and `b` could be more descriptive, but it\\'s okay for a beginner).\\n* You\\'re handling the input conversion to integers correctly.\\n\\n### Suggestions for Improvement\\n\\n* Consider adding a prompt to inform the user what the output represents (e.g., \"The sum is:\").\\n* You could use more descriptive variable names, such as `num1` and `num2`.\\n* You might want to add some error handling to handle cases where the user enters something that can\\'t be converted to an integer.\\n\\n### Updated Code\\n\\nHere\\'s an updated version of your code with some minor improvements:\\n```python\\nnum1 = int(input(\"Enter first number: \"))\\nnum2 = int(input(\"Enter second number: \"))\\nprint(f\"The sum of {num1} and {num2} is: {num1 + num2}\")\\n```\\n**Overall**\\n\\nGreat job on completing the task! Keep practicing, and you\\'ll become a proficient programmer in no time. Remember to always think about error handling and code readability.\\n\\n**Next Steps**\\n\\nTry to modify your code to:\\n\\n* Handle cases where the user enters something that can\\'t be converted to an integer.\\n* Ask the user if they want to perform another calculation.\\n\\nI\\'ll be here to help you with any questions or code reviews!'"
      ]
     },
     "execution_count": 46,
     "metadata": {},
     "output_type": "execute_result"
    }
   ],
   "source": []
  },
  {
   "cell_type": "code",
   "execution_count": null,
   "metadata": {},
   "outputs": [],
   "source": []
  }
 ],
 "metadata": {
  "kernelspec": {
   "display_name": "myvenv",
   "language": "python",
   "name": "python3"
  },
  "language_info": {
   "codemirror_mode": {
    "name": "ipython",
    "version": 3
   },
   "file_extension": ".py",
   "mimetype": "text/x-python",
   "name": "python",
   "nbconvert_exporter": "python",
   "pygments_lexer": "ipython3",
   "version": "3.12.10"
  }
 },
 "nbformat": 4,
 "nbformat_minor": 2
}
