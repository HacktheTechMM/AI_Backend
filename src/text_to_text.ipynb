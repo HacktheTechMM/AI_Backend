{
 "cells": [
  {
   "cell_type": "code",
   "execution_count": 1,
   "metadata": {},
   "outputs": [
    {
     "data": {
      "text/plain": [
       "True"
      ]
     },
     "execution_count": 1,
     "metadata": {},
     "output_type": "execute_result"
    }
   ],
   "source": [
    "from dotenv import load_dotenv \n",
    "\n",
    "load_dotenv()"
   ]
  },
  {
   "cell_type": "code",
   "execution_count": 2,
   "metadata": {},
   "outputs": [],
   "source": [
    "from langchain_groq import ChatGroq \n",
    "\n",
    "model = ChatGroq(model_name=\"meta-llama/llama-4-scout-17b-16e-instruct\")"
   ]
  },
  {
   "cell_type": "code",
   "execution_count": 3,
   "metadata": {},
   "outputs": [],
   "source": [
    "from langchain_core.prompts import ChatPromptTemplate, MessagesPlaceholder\n",
    "\n",
    "system_prompt = \"\"\"\n",
    "You are an AI Assistant.\n",
    "Provide definitions, explanations, examples, and tutorials on programming, algorithms, or concepts in computer science.\n",
    "Generate boilerplate code or full functions/classes from user input.\n",
    "Summarize or fetch API documentation from libraries (e.g., React, Flask).\n",
    "Suggest learning paths for technologies or skills (e.g., Full Stack Developer Roadmap).\n",
    "You have to answer based on the user languages.\n",
    "\"\"\"\n",
    "\n",
    "prompt_template =ChatPromptTemplate.from_messages(\n",
    "    [\n",
    "        (\"system\", system_prompt),\n",
    "        MessagesPlaceholder(variable_name=\"history\"),\n",
    "        (\"human\", \"{input}\")\n",
    "    ]\n",
    ")\n",
    "\n",
    "runnable = prompt_template | model\n"
   ]
  },
  {
   "cell_type": "code",
   "execution_count": 4,
   "metadata": {},
   "outputs": [],
   "source": [
    "from langchain_community.chat_message_histories import ChatMessageHistory\n",
    "from langchain_core.chat_history import BaseChatMessageHistory\n",
    "from langchain_core.runnables.history import RunnableWithMessageHistory\n",
    "import uuid\n",
    "\n",
    "\n",
    "store = {}\n",
    "\n",
    "\n",
    "def get_session_history(session_id: str) -> BaseChatMessageHistory:\n",
    "    if session_id not in store:\n",
    "        store[session_id] = ChatMessageHistory()\n",
    "    return store[session_id]\n",
    "\n",
    "\n",
    "with_message_history = RunnableWithMessageHistory(\n",
    "    runnable,\n",
    "    get_session_history,\n",
    "    input_messages_key=\"input\",\n",
    "    history_messages_key=\"history\",\n",
    ")"
   ]
  },
  {
   "cell_type": "code",
   "execution_count": 5,
   "metadata": {},
   "outputs": [],
   "source": [
    "chain = prompt_template | model\n",
    "session_id = str(uuid.uuid4())"
   ]
  },
  {
   "cell_type": "code",
   "execution_count": 36,
   "metadata": {},
   "outputs": [
    {
     "data": {
      "text/plain": [
       "\"**Programming** is the process of designing, writing, testing, and maintaining the source code of computer programs. It involves creating instructions that a computer can execute to perform a specific task or solve a problem.\\n\\n### Key Aspects of Programming\\n\\n* **Writing code**: Using a programming language to create a set of instructions that a computer can understand.\\n* **Problem-solving**: Breaking down complex problems into smaller, manageable parts, and finding a solution through code.\\n* **Algorithm design**: Creating a step-by-step procedure for solving a problem or achieving a goal.\\n* **Debugging**: Identifying and fixing errors or bugs in the code.\\n\\n### Programming Languages\\n\\nThere are many programming languages, each with its own strengths and weaknesses. Some popular programming languages include:\\n\\n* **Python**: A versatile language used for web development, data analysis, and artificial intelligence.\\n* **Java**: A widely used language for Android app development, web development, and enterprise software development.\\n* **JavaScript**: A language used for client-side scripting on the web, game development, and mobile app development.\\n\\n### Applications of Programming\\n\\nProgramming has numerous applications in various fields, including:\\n\\n* **Web development**: Building websites, web applications, and mobile applications.\\n* **Mobile app development**: Creating apps for Android and iOS devices.\\n* **Game development**: Creating games for PCs, consoles, and mobile devices.\\n* **Artificial intelligence**: Building intelligent systems that can learn, reason, and interact with humans.\\n\\n### Benefits of Programming\\n\\n* **Improved problem-solving skills**: Programming helps develop critical thinking and problem-solving skills.\\n* **Career opportunities**: Programming skills are in high demand, and programmers are well-compensated.\\n* **Creative expression**: Programming allows individuals to express their creativity and bring their ideas to life.\\n\\nIn summary, programming is a vital skill in today's technology-driven world, and it has numerous applications and benefits.\""
      ]
     },
     "execution_count": 36,
     "metadata": {},
     "output_type": "execute_result"
    }
   ],
   "source": [
    "with_message_history.invoke(\n",
    "    {\"input\": \"What is programming\"},\n",
    "    config={\"configurable\": {\"session_id\": session_id}},\n",
    ").content"
   ]
  },
  {
   "cell_type": "code",
   "execution_count": 38,
   "metadata": {},
   "outputs": [
    {
     "data": {
      "text/plain": [
       "{'a623eae0-497c-4dc3-b159-e2b0e3f69a2d': InMemoryChatMessageHistory(messages=[HumanMessage(content='Hi', additional_kwargs={}, response_metadata={}), AIMessage(content=\"Hi! How can I help you today? Do you have a question, need help with a problem, or just want to chat? I'm here to assist you.\", additional_kwargs={}, response_metadata={'token_usage': {'completion_tokens': 34, 'prompt_tokens': 86, 'total_tokens': 120, 'completion_time': 0.076630777, 'prompt_time': 0.00411873, 'queue_time': 0.21223387700000002, 'total_time': 0.080749507}, 'model_name': 'meta-llama/llama-4-scout-17b-16e-instruct', 'system_fingerprint': 'fp_37da608fc1', 'finish_reason': 'stop', 'logprobs': None}, id='run-b33631c1-33ac-4ec4-9950-fe7374482e38-0', usage_metadata={'input_tokens': 86, 'output_tokens': 34, 'total_tokens': 120}), HumanMessage(content='What is programming', additional_kwargs={}, response_metadata={}), AIMessage(content=\"**Programming** is the process of designing, writing, testing, and maintaining the source code of computer programs. It involves creating instructions that a computer can execute to perform a specific task or solve a problem.\\n\\n### Key Aspects of Programming\\n\\n* **Writing code**: Using a programming language to create a set of instructions that a computer can understand.\\n* **Problem-solving**: Breaking down complex problems into smaller, manageable parts, and finding a solution through code.\\n* **Algorithm design**: Creating a step-by-step procedure for solving a problem or achieving a goal.\\n* **Debugging**: Identifying and fixing errors or bugs in the code.\\n\\n### Programming Languages\\n\\nThere are many programming languages, each with its own strengths and weaknesses. Some popular programming languages include:\\n\\n* **Python**: A versatile language used for web development, data analysis, and artificial intelligence.\\n* **Java**: A widely used language for Android app development, web development, and enterprise software development.\\n* **JavaScript**: A language used for client-side scripting on the web, game development, and mobile app development.\\n\\n### Applications of Programming\\n\\nProgramming has numerous applications in various fields, including:\\n\\n* **Web development**: Building websites, web applications, and mobile applications.\\n* **Mobile app development**: Creating apps for Android and iOS devices.\\n* **Game development**: Creating games for PCs, consoles, and mobile devices.\\n* **Artificial intelligence**: Building intelligent systems that can learn, reason, and interact with humans.\\n\\n### Benefits of Programming\\n\\n* **Improved problem-solving skills**: Programming helps develop critical thinking and problem-solving skills.\\n* **Career opportunities**: Programming skills are in high demand, and programmers are well-compensated.\\n* **Creative expression**: Programming allows individuals to express their creativity and bring their ideas to life.\\n\\nIn summary, programming is a vital skill in today's technology-driven world, and it has numerous applications and benefits.\", additional_kwargs={}, response_metadata={'token_usage': {'completion_tokens': 377, 'prompt_tokens': 132, 'total_tokens': 509, 'completion_time': 0.761305779, 'prompt_time': 0.008037782, 'queue_time': 0.218918325, 'total_time': 0.769343561}, 'model_name': 'meta-llama/llama-4-scout-17b-16e-instruct', 'system_fingerprint': 'fp_42ae451038', 'finish_reason': 'stop', 'logprobs': None}, id='run-ea3ae29b-797a-464f-9dba-7389137fa943-0', usage_metadata={'input_tokens': 132, 'output_tokens': 377, 'total_tokens': 509})])}"
      ]
     },
     "execution_count": 38,
     "metadata": {},
     "output_type": "execute_result"
    }
   ],
   "source": [
    "store"
   ]
  },
  {
   "cell_type": "code",
   "execution_count": 49,
   "metadata": {},
   "outputs": [
    {
     "data": {
      "text/plain": [
       "[HumanMessage(content='Hi', additional_kwargs={}, response_metadata={}),\n",
       " AIMessage(content=\"Hi! How can I help you today? Do you have a question, need help with a problem, or just want to chat? I'm here to assist you.\", additional_kwargs={}, response_metadata={'token_usage': {'completion_tokens': 34, 'prompt_tokens': 86, 'total_tokens': 120, 'completion_time': 0.076630777, 'prompt_time': 0.00411873, 'queue_time': 0.21223387700000002, 'total_time': 0.080749507}, 'model_name': 'meta-llama/llama-4-scout-17b-16e-instruct', 'system_fingerprint': 'fp_37da608fc1', 'finish_reason': 'stop', 'logprobs': None}, id='run-b33631c1-33ac-4ec4-9950-fe7374482e38-0', usage_metadata={'input_tokens': 86, 'output_tokens': 34, 'total_tokens': 120}),\n",
       " HumanMessage(content='What is programming', additional_kwargs={}, response_metadata={}),\n",
       " AIMessage(content=\"**Programming** is the process of designing, writing, testing, and maintaining the source code of computer programs. It involves creating instructions that a computer can execute to perform a specific task or solve a problem.\\n\\n### Key Aspects of Programming\\n\\n* **Writing code**: Using a programming language to create a set of instructions that a computer can understand.\\n* **Problem-solving**: Breaking down complex problems into smaller, manageable parts, and finding a solution through code.\\n* **Algorithm design**: Creating a step-by-step procedure for solving a problem or achieving a goal.\\n* **Debugging**: Identifying and fixing errors or bugs in the code.\\n\\n### Programming Languages\\n\\nThere are many programming languages, each with its own strengths and weaknesses. Some popular programming languages include:\\n\\n* **Python**: A versatile language used for web development, data analysis, and artificial intelligence.\\n* **Java**: A widely used language for Android app development, web development, and enterprise software development.\\n* **JavaScript**: A language used for client-side scripting on the web, game development, and mobile app development.\\n\\n### Applications of Programming\\n\\nProgramming has numerous applications in various fields, including:\\n\\n* **Web development**: Building websites, web applications, and mobile applications.\\n* **Mobile app development**: Creating apps for Android and iOS devices.\\n* **Game development**: Creating games for PCs, consoles, and mobile devices.\\n* **Artificial intelligence**: Building intelligent systems that can learn, reason, and interact with humans.\\n\\n### Benefits of Programming\\n\\n* **Improved problem-solving skills**: Programming helps develop critical thinking and problem-solving skills.\\n* **Career opportunities**: Programming skills are in high demand, and programmers are well-compensated.\\n* **Creative expression**: Programming allows individuals to express their creativity and bring their ideas to life.\\n\\nIn summary, programming is a vital skill in today's technology-driven world, and it has numerous applications and benefits.\", additional_kwargs={}, response_metadata={'token_usage': {'completion_tokens': 377, 'prompt_tokens': 132, 'total_tokens': 509, 'completion_time': 0.761305779, 'prompt_time': 0.008037782, 'queue_time': 0.218918325, 'total_time': 0.769343561}, 'model_name': 'meta-llama/llama-4-scout-17b-16e-instruct', 'system_fingerprint': 'fp_42ae451038', 'finish_reason': 'stop', 'logprobs': None}, id='run-ea3ae29b-797a-464f-9dba-7389137fa943-0', usage_metadata={'input_tokens': 132, 'output_tokens': 377, 'total_tokens': 509})]"
      ]
     },
     "execution_count": 49,
     "metadata": {},
     "output_type": "execute_result"
    }
   ],
   "source": [
    "store[session_id].messages"
   ]
  },
  {
   "cell_type": "code",
   "execution_count": 59,
   "metadata": {},
   "outputs": [
    {
     "data": {
      "text/plain": [
       "[HumanMessage(content='Hi', additional_kwargs={}, response_metadata={}),\n",
       " AIMessage(content=\"Hi! How can I help you today? Do you have a question, need help with a problem, or just want to chat? I'm here to assist you.\", additional_kwargs={}, response_metadata={'token_usage': {'completion_tokens': 34, 'prompt_tokens': 86, 'total_tokens': 120, 'completion_time': 0.076630777, 'prompt_time': 0.00411873, 'queue_time': 0.21223387700000002, 'total_time': 0.080749507}, 'model_name': 'meta-llama/llama-4-scout-17b-16e-instruct', 'system_fingerprint': 'fp_37da608fc1', 'finish_reason': 'stop', 'logprobs': None}, id='run-b33631c1-33ac-4ec4-9950-fe7374482e38-0', usage_metadata={'input_tokens': 86, 'output_tokens': 34, 'total_tokens': 120}),\n",
       " HumanMessage(content='What is programming', additional_kwargs={}, response_metadata={}),\n",
       " AIMessage(content=\"**Programming** is the process of designing, writing, testing, and maintaining the source code of computer programs. It involves creating instructions that a computer can execute to perform a specific task or solve a problem.\\n\\n### Key Aspects of Programming\\n\\n* **Writing code**: Using a programming language to create a set of instructions that a computer can understand.\\n* **Problem-solving**: Breaking down complex problems into smaller, manageable parts, and finding a solution through code.\\n* **Algorithm design**: Creating a step-by-step procedure for solving a problem or achieving a goal.\\n* **Debugging**: Identifying and fixing errors or bugs in the code.\\n\\n### Programming Languages\\n\\nThere are many programming languages, each with its own strengths and weaknesses. Some popular programming languages include:\\n\\n* **Python**: A versatile language used for web development, data analysis, and artificial intelligence.\\n* **Java**: A widely used language for Android app development, web development, and enterprise software development.\\n* **JavaScript**: A language used for client-side scripting on the web, game development, and mobile app development.\\n\\n### Applications of Programming\\n\\nProgramming has numerous applications in various fields, including:\\n\\n* **Web development**: Building websites, web applications, and mobile applications.\\n* **Mobile app development**: Creating apps for Android and iOS devices.\\n* **Game development**: Creating games for PCs, consoles, and mobile devices.\\n* **Artificial intelligence**: Building intelligent systems that can learn, reason, and interact with humans.\\n\\n### Benefits of Programming\\n\\n* **Improved problem-solving skills**: Programming helps develop critical thinking and problem-solving skills.\\n* **Career opportunities**: Programming skills are in high demand, and programmers are well-compensated.\\n* **Creative expression**: Programming allows individuals to express their creativity and bring their ideas to life.\\n\\nIn summary, programming is a vital skill in today's technology-driven world, and it has numerous applications and benefits.\", additional_kwargs={}, response_metadata={'token_usage': {'completion_tokens': 377, 'prompt_tokens': 132, 'total_tokens': 509, 'completion_time': 0.761305779, 'prompt_time': 0.008037782, 'queue_time': 0.218918325, 'total_time': 0.769343561}, 'model_name': 'meta-llama/llama-4-scout-17b-16e-instruct', 'system_fingerprint': 'fp_42ae451038', 'finish_reason': 'stop', 'logprobs': None}, id='run-ea3ae29b-797a-464f-9dba-7389137fa943-0', usage_metadata={'input_tokens': 132, 'output_tokens': 377, 'total_tokens': 509})]"
      ]
     },
     "execution_count": 59,
     "metadata": {},
     "output_type": "execute_result"
    }
   ],
   "source": [
    "store[session_id].messages"
   ]
  },
  {
   "cell_type": "code",
   "execution_count": 60,
   "metadata": {},
   "outputs": [
    {
     "data": {
      "text/plain": [
       "['Hi',\n",
       " \"Hi! How can I help you today? Do you have a question, need help with a problem, or just want to chat? I'm here to assist you.\",\n",
       " 'What is programming',\n",
       " \"**Programming** is the process of designing, writing, testing, and maintaining the source code of computer programs. It involves creating instructions that a computer can execute to perform a specific task or solve a problem.\\n\\n### Key Aspects of Programming\\n\\n* **Writing code**: Using a programming language to create a set of instructions that a computer can understand.\\n* **Problem-solving**: Breaking down complex problems into smaller, manageable parts, and finding a solution through code.\\n* **Algorithm design**: Creating a step-by-step procedure for solving a problem or achieving a goal.\\n* **Debugging**: Identifying and fixing errors or bugs in the code.\\n\\n### Programming Languages\\n\\nThere are many programming languages, each with its own strengths and weaknesses. Some popular programming languages include:\\n\\n* **Python**: A versatile language used for web development, data analysis, and artificial intelligence.\\n* **Java**: A widely used language for Android app development, web development, and enterprise software development.\\n* **JavaScript**: A language used for client-side scripting on the web, game development, and mobile app development.\\n\\n### Applications of Programming\\n\\nProgramming has numerous applications in various fields, including:\\n\\n* **Web development**: Building websites, web applications, and mobile applications.\\n* **Mobile app development**: Creating apps for Android and iOS devices.\\n* **Game development**: Creating games for PCs, consoles, and mobile devices.\\n* **Artificial intelligence**: Building intelligent systems that can learn, reason, and interact with humans.\\n\\n### Benefits of Programming\\n\\n* **Improved problem-solving skills**: Programming helps develop critical thinking and problem-solving skills.\\n* **Career opportunities**: Programming skills are in high demand, and programmers are well-compensated.\\n* **Creative expression**: Programming allows individuals to express their creativity and bring their ideas to life.\\n\\nIn summary, programming is a vital skill in today's technology-driven world, and it has numerous applications and benefits.\"]"
      ]
     },
     "execution_count": 60,
     "metadata": {},
     "output_type": "execute_result"
    }
   ],
   "source": [
    "contents = [message.content for message in store[session_id].messages]\n",
    "contents"
   ]
  },
  {
   "cell_type": "code",
   "execution_count": null,
   "metadata": {},
   "outputs": [],
   "source": []
  }
 ],
 "metadata": {
  "kernelspec": {
   "display_name": "myvenv",
   "language": "python",
   "name": "python3"
  },
  "language_info": {
   "codemirror_mode": {
    "name": "ipython",
    "version": 3
   },
   "file_extension": ".py",
   "mimetype": "text/x-python",
   "name": "python",
   "nbconvert_exporter": "python",
   "pygments_lexer": "ipython3",
   "version": "3.12.10"
  }
 },
 "nbformat": 4,
 "nbformat_minor": 2
}
