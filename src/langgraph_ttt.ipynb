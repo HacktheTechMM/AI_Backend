{
 "cells": [
  {
   "cell_type": "code",
   "execution_count": 1,
   "metadata": {},
   "outputs": [],
   "source": [
    "from langchain_core.prompts import ChatPromptTemplate\n",
    "from langchain_groq import ChatGroq \n",
    "from dotenv import load_dotenv \n"
   ]
  },
  {
   "cell_type": "code",
   "execution_count": 12,
   "metadata": {},
   "outputs": [
    {
     "data": {
      "text/plain": [
       "True"
      ]
     },
     "execution_count": 12,
     "metadata": {},
     "output_type": "execute_result"
    }
   ],
   "source": [
    "load_dotenv()"
   ]
  },
  {
   "cell_type": "code",
   "execution_count": 10,
   "metadata": {},
   "outputs": [
    {
     "name": "stdout",
     "output_type": "stream",
     "text": [
      "Requirement already satisfied: duckduckgo-search in d:\\programming\\ai_backend\\myvenv\\lib\\site-packages (8.0.1)\n",
      "Collecting langchain_google_genai\n",
      "  Downloading langchain_google_genai-2.1.3-py3-none-any.whl.metadata (4.7 kB)\n",
      "Requirement already satisfied: click>=8.1.8 in d:\\programming\\ai_backend\\myvenv\\lib\\site-packages (from duckduckgo-search) (8.1.8)\n",
      "Requirement already satisfied: primp>=0.15.0 in d:\\programming\\ai_backend\\myvenv\\lib\\site-packages (from duckduckgo-search) (0.15.0)\n",
      "Requirement already satisfied: lxml>=5.3.0 in d:\\programming\\ai_backend\\myvenv\\lib\\site-packages (from duckduckgo-search) (5.4.0)\n",
      "Collecting filetype<2.0.0,>=1.2.0 (from langchain_google_genai)\n",
      "  Using cached filetype-1.2.0-py2.py3-none-any.whl.metadata (6.5 kB)\n",
      "Collecting google-ai-generativelanguage<0.7.0,>=0.6.16 (from langchain_google_genai)\n",
      "  Using cached google_ai_generativelanguage-0.6.17-py3-none-any.whl.metadata (9.8 kB)\n",
      "Requirement already satisfied: langchain-core<0.4.0,>=0.3.52 in d:\\programming\\ai_backend\\myvenv\\lib\\site-packages (from langchain_google_genai) (0.3.55)\n",
      "Requirement already satisfied: pydantic<3,>=2 in d:\\programming\\ai_backend\\myvenv\\lib\\site-packages (from langchain_google_genai) (2.11.3)\n",
      "Requirement already satisfied: colorama in d:\\programming\\ai_backend\\myvenv\\lib\\site-packages (from click>=8.1.8->duckduckgo-search) (0.4.6)\n",
      "Collecting google-api-core!=2.0.*,!=2.1.*,!=2.10.*,!=2.2.*,!=2.3.*,!=2.4.*,!=2.5.*,!=2.6.*,!=2.7.*,!=2.8.*,!=2.9.*,<3.0.0,>=1.34.1 (from google-api-core[grpc]!=2.0.*,!=2.1.*,!=2.10.*,!=2.2.*,!=2.3.*,!=2.4.*,!=2.5.*,!=2.6.*,!=2.7.*,!=2.8.*,!=2.9.*,<3.0.0,>=1.34.1->google-ai-generativelanguage<0.7.0,>=0.6.16->langchain_google_genai)\n",
      "  Using cached google_api_core-2.24.2-py3-none-any.whl.metadata (3.0 kB)\n",
      "Requirement already satisfied: google-auth!=2.24.0,!=2.25.0,<3.0.0,>=2.14.1 in d:\\programming\\ai_backend\\myvenv\\lib\\site-packages (from google-ai-generativelanguage<0.7.0,>=0.6.16->langchain_google_genai) (2.39.0)\n",
      "Collecting proto-plus<2.0.0,>=1.22.3 (from google-ai-generativelanguage<0.7.0,>=0.6.16->langchain_google_genai)\n",
      "  Using cached proto_plus-1.26.1-py3-none-any.whl.metadata (2.2 kB)\n",
      "Collecting protobuf!=4.21.0,!=4.21.1,!=4.21.2,!=4.21.3,!=4.21.4,!=4.21.5,<7.0.0,>=3.20.2 (from google-ai-generativelanguage<0.7.0,>=0.6.16->langchain_google_genai)\n",
      "  Downloading protobuf-6.30.2-cp310-abi3-win_amd64.whl.metadata (593 bytes)\n",
      "Requirement already satisfied: langsmith<0.4,>=0.1.125 in d:\\programming\\ai_backend\\myvenv\\lib\\site-packages (from langchain-core<0.4.0,>=0.3.52->langchain_google_genai) (0.3.33)\n",
      "Requirement already satisfied: tenacity!=8.4.0,<10.0.0,>=8.1.0 in d:\\programming\\ai_backend\\myvenv\\lib\\site-packages (from langchain-core<0.4.0,>=0.3.52->langchain_google_genai) (9.1.2)\n",
      "Requirement already satisfied: jsonpatch<2.0,>=1.33 in d:\\programming\\ai_backend\\myvenv\\lib\\site-packages (from langchain-core<0.4.0,>=0.3.52->langchain_google_genai) (1.33)\n",
      "Requirement already satisfied: PyYAML>=5.3 in d:\\programming\\ai_backend\\myvenv\\lib\\site-packages (from langchain-core<0.4.0,>=0.3.52->langchain_google_genai) (6.0.2)\n",
      "Requirement already satisfied: packaging<25,>=23.2 in d:\\programming\\ai_backend\\myvenv\\lib\\site-packages (from langchain-core<0.4.0,>=0.3.52->langchain_google_genai) (24.2)\n",
      "Requirement already satisfied: typing-extensions>=4.7 in d:\\programming\\ai_backend\\myvenv\\lib\\site-packages (from langchain-core<0.4.0,>=0.3.52->langchain_google_genai) (4.13.2)\n",
      "Requirement already satisfied: annotated-types>=0.6.0 in d:\\programming\\ai_backend\\myvenv\\lib\\site-packages (from pydantic<3,>=2->langchain_google_genai) (0.7.0)\n",
      "Requirement already satisfied: pydantic-core==2.33.1 in d:\\programming\\ai_backend\\myvenv\\lib\\site-packages (from pydantic<3,>=2->langchain_google_genai) (2.33.1)\n",
      "Requirement already satisfied: typing-inspection>=0.4.0 in d:\\programming\\ai_backend\\myvenv\\lib\\site-packages (from pydantic<3,>=2->langchain_google_genai) (0.4.0)\n",
      "Collecting googleapis-common-protos<2.0.0,>=1.56.2 (from google-api-core!=2.0.*,!=2.1.*,!=2.10.*,!=2.2.*,!=2.3.*,!=2.4.*,!=2.5.*,!=2.6.*,!=2.7.*,!=2.8.*,!=2.9.*,<3.0.0,>=1.34.1->google-api-core[grpc]!=2.0.*,!=2.1.*,!=2.10.*,!=2.2.*,!=2.3.*,!=2.4.*,!=2.5.*,!=2.6.*,!=2.7.*,!=2.8.*,!=2.9.*,<3.0.0,>=1.34.1->google-ai-generativelanguage<0.7.0,>=0.6.16->langchain_google_genai)\n",
      "  Downloading googleapis_common_protos-1.70.0-py3-none-any.whl.metadata (9.3 kB)\n",
      "Requirement already satisfied: requests<3.0.0,>=2.18.0 in d:\\programming\\ai_backend\\myvenv\\lib\\site-packages (from google-api-core!=2.0.*,!=2.1.*,!=2.10.*,!=2.2.*,!=2.3.*,!=2.4.*,!=2.5.*,!=2.6.*,!=2.7.*,!=2.8.*,!=2.9.*,<3.0.0,>=1.34.1->google-api-core[grpc]!=2.0.*,!=2.1.*,!=2.10.*,!=2.2.*,!=2.3.*,!=2.4.*,!=2.5.*,!=2.6.*,!=2.7.*,!=2.8.*,!=2.9.*,<3.0.0,>=1.34.1->google-ai-generativelanguage<0.7.0,>=0.6.16->langchain_google_genai) (2.32.3)\n",
      "Collecting grpcio<2.0dev,>=1.33.2 (from google-api-core[grpc]!=2.0.*,!=2.1.*,!=2.10.*,!=2.2.*,!=2.3.*,!=2.4.*,!=2.5.*,!=2.6.*,!=2.7.*,!=2.8.*,!=2.9.*,<3.0.0,>=1.34.1->google-ai-generativelanguage<0.7.0,>=0.6.16->langchain_google_genai)\n",
      "  Downloading grpcio-1.72.0rc1-cp312-cp312-win_amd64.whl.metadata (4.0 kB)\n",
      "Collecting grpcio-status<2.0.dev0,>=1.33.2 (from google-api-core[grpc]!=2.0.*,!=2.1.*,!=2.10.*,!=2.2.*,!=2.3.*,!=2.4.*,!=2.5.*,!=2.6.*,!=2.7.*,!=2.8.*,!=2.9.*,<3.0.0,>=1.34.1->google-ai-generativelanguage<0.7.0,>=0.6.16->langchain_google_genai)\n",
      "  Downloading grpcio_status-1.72.0rc1-py3-none-any.whl.metadata (1.1 kB)\n",
      "Requirement already satisfied: cachetools<6.0,>=2.0.0 in d:\\programming\\ai_backend\\myvenv\\lib\\site-packages (from google-auth!=2.24.0,!=2.25.0,<3.0.0,>=2.14.1->google-ai-generativelanguage<0.7.0,>=0.6.16->langchain_google_genai) (5.5.2)\n",
      "Requirement already satisfied: pyasn1-modules>=0.2.1 in d:\\programming\\ai_backend\\myvenv\\lib\\site-packages (from google-auth!=2.24.0,!=2.25.0,<3.0.0,>=2.14.1->google-ai-generativelanguage<0.7.0,>=0.6.16->langchain_google_genai) (0.4.2)\n",
      "Requirement already satisfied: rsa<5,>=3.1.4 in d:\\programming\\ai_backend\\myvenv\\lib\\site-packages (from google-auth!=2.24.0,!=2.25.0,<3.0.0,>=2.14.1->google-ai-generativelanguage<0.7.0,>=0.6.16->langchain_google_genai) (4.9.1)\n",
      "Requirement already satisfied: jsonpointer>=1.9 in d:\\programming\\ai_backend\\myvenv\\lib\\site-packages (from jsonpatch<2.0,>=1.33->langchain-core<0.4.0,>=0.3.52->langchain_google_genai) (3.0.0)\n",
      "Requirement already satisfied: httpx<1,>=0.23.0 in d:\\programming\\ai_backend\\myvenv\\lib\\site-packages (from langsmith<0.4,>=0.1.125->langchain-core<0.4.0,>=0.3.52->langchain_google_genai) (0.28.1)\n",
      "Requirement already satisfied: orjson<4.0.0,>=3.9.14 in d:\\programming\\ai_backend\\myvenv\\lib\\site-packages (from langsmith<0.4,>=0.1.125->langchain-core<0.4.0,>=0.3.52->langchain_google_genai) (3.10.16)\n",
      "Requirement already satisfied: requests-toolbelt<2.0.0,>=1.0.0 in d:\\programming\\ai_backend\\myvenv\\lib\\site-packages (from langsmith<0.4,>=0.1.125->langchain-core<0.4.0,>=0.3.52->langchain_google_genai) (1.0.0)\n",
      "Requirement already satisfied: zstandard<0.24.0,>=0.23.0 in d:\\programming\\ai_backend\\myvenv\\lib\\site-packages (from langsmith<0.4,>=0.1.125->langchain-core<0.4.0,>=0.3.52->langchain_google_genai) (0.23.0)\n",
      "Collecting protobuf!=4.21.0,!=4.21.1,!=4.21.2,!=4.21.3,!=4.21.4,!=4.21.5,<7.0.0,>=3.20.2 (from google-ai-generativelanguage<0.7.0,>=0.6.16->langchain_google_genai)\n",
      "  Downloading protobuf-6.31.0rc1-cp310-abi3-win_amd64.whl.metadata (596 bytes)\n",
      "Requirement already satisfied: anyio in d:\\programming\\ai_backend\\myvenv\\lib\\site-packages (from httpx<1,>=0.23.0->langsmith<0.4,>=0.1.125->langchain-core<0.4.0,>=0.3.52->langchain_google_genai) (4.9.0)\n",
      "Requirement already satisfied: certifi in d:\\programming\\ai_backend\\myvenv\\lib\\site-packages (from httpx<1,>=0.23.0->langsmith<0.4,>=0.1.125->langchain-core<0.4.0,>=0.3.52->langchain_google_genai) (2025.1.31)\n",
      "Requirement already satisfied: httpcore==1.* in d:\\programming\\ai_backend\\myvenv\\lib\\site-packages (from httpx<1,>=0.23.0->langsmith<0.4,>=0.1.125->langchain-core<0.4.0,>=0.3.52->langchain_google_genai) (1.0.8)\n",
      "Requirement already satisfied: idna in d:\\programming\\ai_backend\\myvenv\\lib\\site-packages (from httpx<1,>=0.23.0->langsmith<0.4,>=0.1.125->langchain-core<0.4.0,>=0.3.52->langchain_google_genai) (3.10)\n",
      "Requirement already satisfied: h11<0.15,>=0.13 in d:\\programming\\ai_backend\\myvenv\\lib\\site-packages (from httpcore==1.*->httpx<1,>=0.23.0->langsmith<0.4,>=0.1.125->langchain-core<0.4.0,>=0.3.52->langchain_google_genai) (0.14.0)\n",
      "Requirement already satisfied: pyasn1<0.7.0,>=0.6.1 in d:\\programming\\ai_backend\\myvenv\\lib\\site-packages (from pyasn1-modules>=0.2.1->google-auth!=2.24.0,!=2.25.0,<3.0.0,>=2.14.1->google-ai-generativelanguage<0.7.0,>=0.6.16->langchain_google_genai) (0.6.1)\n",
      "Requirement already satisfied: charset-normalizer<4,>=2 in d:\\programming\\ai_backend\\myvenv\\lib\\site-packages (from requests<3.0.0,>=2.18.0->google-api-core!=2.0.*,!=2.1.*,!=2.10.*,!=2.2.*,!=2.3.*,!=2.4.*,!=2.5.*,!=2.6.*,!=2.7.*,!=2.8.*,!=2.9.*,<3.0.0,>=1.34.1->google-api-core[grpc]!=2.0.*,!=2.1.*,!=2.10.*,!=2.2.*,!=2.3.*,!=2.4.*,!=2.5.*,!=2.6.*,!=2.7.*,!=2.8.*,!=2.9.*,<3.0.0,>=1.34.1->google-ai-generativelanguage<0.7.0,>=0.6.16->langchain_google_genai) (3.4.1)\n",
      "Requirement already satisfied: urllib3<3,>=1.21.1 in d:\\programming\\ai_backend\\myvenv\\lib\\site-packages (from requests<3.0.0,>=2.18.0->google-api-core!=2.0.*,!=2.1.*,!=2.10.*,!=2.2.*,!=2.3.*,!=2.4.*,!=2.5.*,!=2.6.*,!=2.7.*,!=2.8.*,!=2.9.*,<3.0.0,>=1.34.1->google-api-core[grpc]!=2.0.*,!=2.1.*,!=2.10.*,!=2.2.*,!=2.3.*,!=2.4.*,!=2.5.*,!=2.6.*,!=2.7.*,!=2.8.*,!=2.9.*,<3.0.0,>=1.34.1->google-ai-generativelanguage<0.7.0,>=0.6.16->langchain_google_genai) (2.4.0)\n",
      "Requirement already satisfied: sniffio>=1.1 in d:\\programming\\ai_backend\\myvenv\\lib\\site-packages (from anyio->httpx<1,>=0.23.0->langsmith<0.4,>=0.1.125->langchain-core<0.4.0,>=0.3.52->langchain_google_genai) (1.3.1)\n",
      "Downloading langchain_google_genai-2.1.3-py3-none-any.whl (43 kB)\n",
      "Using cached filetype-1.2.0-py2.py3-none-any.whl (19 kB)\n",
      "Using cached google_ai_generativelanguage-0.6.17-py3-none-any.whl (1.4 MB)\n",
      "Using cached google_api_core-2.24.2-py3-none-any.whl (160 kB)\n",
      "Using cached proto_plus-1.26.1-py3-none-any.whl (50 kB)\n",
      "Downloading protobuf-6.30.2-cp310-abi3-win_amd64.whl (431 kB)\n",
      "Downloading googleapis_common_protos-1.70.0-py3-none-any.whl (294 kB)\n",
      "Downloading grpcio-1.72.0rc1-cp312-cp312-win_amd64.whl (4.3 MB)\n",
      "   ---------------------------------------- 0.0/4.3 MB ? eta -:--:--\n",
      "   ---------------------------------------- 0.0/4.3 MB ? eta -:--:--\n",
      "   -- ------------------------------------- 0.3/4.3 MB ? eta -:--:--\n",
      "   -- ------------------------------------- 0.3/4.3 MB ? eta -:--:--\n",
      "   ---- ----------------------------------- 0.5/4.3 MB 672.2 kB/s eta 0:00:06\n",
      "   ------- -------------------------------- 0.8/4.3 MB 907.1 kB/s eta 0:00:04\n",
      "   ------- -------------------------------- 0.8/4.3 MB 907.1 kB/s eta 0:00:04\n",
      "   ------- -------------------------------- 0.8/4.3 MB 907.1 kB/s eta 0:00:04\n",
      "   ------- -------------------------------- 0.8/4.3 MB 907.1 kB/s eta 0:00:04\n",
      "   ------- -------------------------------- 0.8/4.3 MB 907.1 kB/s eta 0:00:04\n",
      "   --------- ------------------------------ 1.0/4.3 MB 484.0 kB/s eta 0:00:07\n",
      "   --------- ------------------------------ 1.0/4.3 MB 484.0 kB/s eta 0:00:07\n",
      "   --------- ------------------------------ 1.0/4.3 MB 484.0 kB/s eta 0:00:07\n",
      "   --------- ------------------------------ 1.0/4.3 MB 484.0 kB/s eta 0:00:07\n",
      "   --------- ------------------------------ 1.0/4.3 MB 484.0 kB/s eta 0:00:07\n",
      "   ------------ --------------------------- 1.3/4.3 MB 406.7 kB/s eta 0:00:08\n",
      "   ------------ --------------------------- 1.3/4.3 MB 406.7 kB/s eta 0:00:08\n",
      "   ------------ --------------------------- 1.3/4.3 MB 406.7 kB/s eta 0:00:08\n",
      "   ------------ --------------------------- 1.3/4.3 MB 406.7 kB/s eta 0:00:08\n",
      "   ------------ --------------------------- 1.3/4.3 MB 406.7 kB/s eta 0:00:08\n",
      "   ------------ --------------------------- 1.3/4.3 MB 406.7 kB/s eta 0:00:08\n",
      "   ------------ --------------------------- 1.3/4.3 MB 406.7 kB/s eta 0:00:08\n",
      "   -------------- ------------------------- 1.6/4.3 MB 317.8 kB/s eta 0:00:09\n",
      "   -------------- ------------------------- 1.6/4.3 MB 317.8 kB/s eta 0:00:09\n",
      "   -------------- ------------------------- 1.6/4.3 MB 317.8 kB/s eta 0:00:09\n",
      "   -------------- ------------------------- 1.6/4.3 MB 317.8 kB/s eta 0:00:09\n",
      "   -------------- ------------------------- 1.6/4.3 MB 317.8 kB/s eta 0:00:09\n",
      "   -------------- ------------------------- 1.6/4.3 MB 317.8 kB/s eta 0:00:09\n",
      "   -------------- ------------------------- 1.6/4.3 MB 317.8 kB/s eta 0:00:09\n",
      "   -------------- ------------------------- 1.6/4.3 MB 317.8 kB/s eta 0:00:09\n",
      "   -------------- ------------------------- 1.6/4.3 MB 317.8 kB/s eta 0:00:09\n",
      "   -------------- ------------------------- 1.6/4.3 MB 317.8 kB/s eta 0:00:09\n",
      "   -------------- ------------------------- 1.6/4.3 MB 317.8 kB/s eta 0:00:09\n",
      "   -------------- ------------------------- 1.6/4.3 MB 317.8 kB/s eta 0:00:09\n",
      "   -------------- ------------------------- 1.6/4.3 MB 317.8 kB/s eta 0:00:09\n",
      "   -------------- ------------------------- 1.6/4.3 MB 317.8 kB/s eta 0:00:09\n",
      "   -------------- ------------------------- 1.6/4.3 MB 317.8 kB/s eta 0:00:09\n",
      "   -------------- ------------------------- 1.6/4.3 MB 317.8 kB/s eta 0:00:09\n",
      "   -------------- ------------------------- 1.6/4.3 MB 317.8 kB/s eta 0:00:09\n",
      "   -------------- ------------------------- 1.6/4.3 MB 317.8 kB/s eta 0:00:09\n",
      "   -------------- ------------------------- 1.6/4.3 MB 317.8 kB/s eta 0:00:09\n",
      "   -------------- ------------------------- 1.6/4.3 MB 317.8 kB/s eta 0:00:09\n",
      "   -------------- ------------------------- 1.6/4.3 MB 317.8 kB/s eta 0:00:09\n",
      "   ----------------- ---------------------- 1.8/4.3 MB 186.8 kB/s eta 0:00:14\n",
      "   ----------------- ---------------------- 1.8/4.3 MB 186.8 kB/s eta 0:00:14\n",
      "   ----------------- ---------------------- 1.8/4.3 MB 186.8 kB/s eta 0:00:14\n",
      "   ----------------- ---------------------- 1.8/4.3 MB 186.8 kB/s eta 0:00:14\n",
      "   ----------------- ---------------------- 1.8/4.3 MB 186.8 kB/s eta 0:00:14\n",
      "   ----------------- ---------------------- 1.8/4.3 MB 186.8 kB/s eta 0:00:14\n",
      "   ----------------- ---------------------- 1.8/4.3 MB 186.8 kB/s eta 0:00:14\n",
      "   ----------------- ---------------------- 1.8/4.3 MB 186.8 kB/s eta 0:00:14\n",
      "   ----------------- ---------------------- 1.8/4.3 MB 186.8 kB/s eta 0:00:14\n",
      "   ----------------- ---------------------- 1.8/4.3 MB 186.8 kB/s eta 0:00:14\n",
      "   ----------------- ---------------------- 1.8/4.3 MB 186.8 kB/s eta 0:00:14\n",
      "   ----------------- ---------------------- 1.8/4.3 MB 186.8 kB/s eta 0:00:14\n",
      "   ------------------- -------------------- 2.1/4.3 MB 167.3 kB/s eta 0:00:14\n",
      "   ------------------- -------------------- 2.1/4.3 MB 167.3 kB/s eta 0:00:14\n",
      "   ------------------- -------------------- 2.1/4.3 MB 167.3 kB/s eta 0:00:14\n",
      "   ------------------- -------------------- 2.1/4.3 MB 167.3 kB/s eta 0:00:14\n",
      "   ---------------------- ----------------- 2.4/4.3 MB 178.7 kB/s eta 0:00:11\n",
      "   ---------------------- ----------------- 2.4/4.3 MB 178.7 kB/s eta 0:00:11\n",
      "   ---------------------- ----------------- 2.4/4.3 MB 178.7 kB/s eta 0:00:11\n",
      "   ---------------------- ----------------- 2.4/4.3 MB 178.7 kB/s eta 0:00:11\n",
      "   ---------------------- ----------------- 2.4/4.3 MB 178.7 kB/s eta 0:00:11\n",
      "   ---------------------- ----------------- 2.4/4.3 MB 178.7 kB/s eta 0:00:11\n",
      "   ---------------------- ----------------- 2.4/4.3 MB 178.7 kB/s eta 0:00:11\n",
      "   ---------------------- ----------------- 2.4/4.3 MB 178.7 kB/s eta 0:00:11\n",
      "   ---------------------- ----------------- 2.4/4.3 MB 178.7 kB/s eta 0:00:11\n",
      "   ---------------------- ----------------- 2.4/4.3 MB 178.7 kB/s eta 0:00:11\n",
      "   ---------------------- ----------------- 2.4/4.3 MB 178.7 kB/s eta 0:00:11\n",
      "   ------------------------ --------------- 2.6/4.3 MB 167.4 kB/s eta 0:00:10\n",
      "   ------------------------ --------------- 2.6/4.3 MB 167.4 kB/s eta 0:00:10\n",
      "   ------------------------ --------------- 2.6/4.3 MB 167.4 kB/s eta 0:00:10\n",
      "   ------------------------ --------------- 2.6/4.3 MB 167.4 kB/s eta 0:00:10\n",
      "   ------------------------ --------------- 2.6/4.3 MB 167.4 kB/s eta 0:00:10\n",
      "   ------------------------ --------------- 2.6/4.3 MB 167.4 kB/s eta 0:00:10\n",
      "   -------------------------- ------------- 2.9/4.3 MB 171.0 kB/s eta 0:00:09\n",
      "   -------------------------- ------------- 2.9/4.3 MB 171.0 kB/s eta 0:00:09\n",
      "   ----------------------------- ---------- 3.1/4.3 MB 182.2 kB/s eta 0:00:07\n",
      "   ----------------------------- ---------- 3.1/4.3 MB 182.2 kB/s eta 0:00:07\n",
      "   ------------------------------- -------- 3.4/4.3 MB 194.3 kB/s eta 0:00:05\n",
      "   ------------------------------- -------- 3.4/4.3 MB 194.3 kB/s eta 0:00:05\n",
      "   ---------------------------------- ----- 3.7/4.3 MB 204.4 kB/s eta 0:00:03\n",
      "   ---------------------------------- ----- 3.7/4.3 MB 204.4 kB/s eta 0:00:03\n",
      "   ---------------------------------- ----- 3.7/4.3 MB 204.4 kB/s eta 0:00:03\n",
      "   ---------------------------------- ----- 3.7/4.3 MB 204.4 kB/s eta 0:00:03\n",
      "   ---------------------------------- ----- 3.7/4.3 MB 204.4 kB/s eta 0:00:03\n",
      "   ---------------------------------- ----- 3.7/4.3 MB 204.4 kB/s eta 0:00:03\n",
      "   ---------------------------------- ----- 3.7/4.3 MB 204.4 kB/s eta 0:00:03\n",
      "   ---------------------------------- ----- 3.7/4.3 MB 204.4 kB/s eta 0:00:03\n",
      "   ------------------------------------ --- 3.9/4.3 MB 201.6 kB/s eta 0:00:02\n",
      "   ------------------------------------ --- 3.9/4.3 MB 201.6 kB/s eta 0:00:02\n",
      "   ---------------------------------------- 4.3/4.3 MB 215.8 kB/s eta 0:00:00\n",
      "Downloading grpcio_status-1.72.0rc1-py3-none-any.whl (14 kB)\n",
      "Installing collected packages: filetype, protobuf, grpcio, proto-plus, googleapis-common-protos, grpcio-status, google-api-core, google-ai-generativelanguage, langchain_google_genai\n",
      "Successfully installed filetype-1.2.0 google-ai-generativelanguage-0.6.17 google-api-core-2.24.2 googleapis-common-protos-1.70.0 grpcio-1.72.0rc1 grpcio-status-1.72.0rc1 langchain_google_genai-2.1.3 proto-plus-1.26.1 protobuf-6.30.2\n"
     ]
    }
   ],
   "source": [
    "!pip install duckduckgo-search langchain_google_genai"
   ]
  },
  {
   "cell_type": "code",
   "execution_count": 5,
   "metadata": {},
   "outputs": [
    {
     "data": {
      "text/plain": [
       "\"snippet: Maximize your IELTS success in 2025 with essential free resources. Benefit from expert strategies, practice tests, interactive lessons, and Top YouTube channels. ... The courses offered are FREE IELTS preparation Webinars, Road to IELTS, Prepare for your IELTS Test, Take your IELTS Academic Test, and so on., title: Top 10 Free IELTS Preparation Resources for 2025, link: https://www.afnovisaguide.com/blog/test-prep/top-10-free-resources-for-ielts-preparation-for-international-students, snippet: IELTS Simon: Explore IELTS Simon's blog for reading strategies, tips, and sample passages with detailed explanations. Writing Practice. IELTS Writing Task 2: Discursive Essays by Richard Kirke: Utilize this book to practice writing essays on various topics commonly encountered in the IELTS exam., title: Complete 8-Week IELTS Study Plan - Ace IELTS Exam in 2024, link: https://www.geeksforgeeks.org/ielts-study-plan/, snippet: This guide provides a structured roadmap for IELTS beginners, equipping you with the knowledge and strategies to ace the exam. Understanding the IELTS Exam. Before diving into preparation, it's crucial to understand the IELTS exam's format and scoring system. The IELTS (International English Language Testing System) assesses your English ..., title: How To Start IELTS Preparation For Beginners » IETLS.NET, link: https://www.ielts.net/how-to-start-ielts-preparation-for-beginners/, snippet: IELTS Academic is needed if you want to pursue a graduate or postgraduate program. It requires you to read more complex texts in the Reading part and describe diagrams in the Writing part. IELTS General Training is great for people who are not planning to get a graduate degree but to work or simply move to another country., title: How to Prepare for IELTS in 10 Days: Study Plan - IvyPanda, link: https://ivypanda.com/blog/how-to-prepare-for-ielts/\""
      ]
     },
     "execution_count": 5,
     "metadata": {},
     "output_type": "execute_result"
    }
   ],
   "source": [
    "from langchain_community.tools import DuckDuckGoSearchResults\n",
    "\n",
    "ddg_search = DuckDuckGoSearchResults()\n",
    "ddg_search.invoke(\"Roadmap for IELTS\")"
   ]
  },
  {
   "cell_type": "code",
   "execution_count": 6,
   "metadata": {},
   "outputs": [],
   "source": [
    "from langchain_community.tools import tool \n",
    "\n",
    "@tool \n",
    "def ddg_search(query:str):\n",
    "    \"\"\"Search the roadmap in Educations\"\"\"\n",
    "    ddg_search = DuckDuckGoSearchResults()\n",
    "    return ddg_search.invoke(query)"
   ]
  },
  {
   "cell_type": "code",
   "execution_count": 7,
   "metadata": {},
   "outputs": [
    {
     "data": {
      "text/plain": [
       "[<function langchain_core.tools.convert.tool(name_or_callable: Union[str, Callable, NoneType] = None, runnable: Optional[langchain_core.runnables.base.Runnable] = None, *args: Any, description: Optional[str] = None, return_direct: bool = False, args_schema: Union[type[pydantic.main.BaseModel], dict[str, Any], NoneType] = None, infer_schema: bool = True, response_format: Literal['content', 'content_and_artifact'] = 'content', parse_docstring: bool = False, error_on_invalid_docstring: bool = True) -> Union[langchain_core.tools.base.BaseTool, Callable[[Union[Callable, langchain_core.runnables.base.Runnable]], langchain_core.tools.base.BaseTool]]>]"
      ]
     },
     "execution_count": 7,
     "metadata": {},
     "output_type": "execute_result"
    }
   ],
   "source": [
    "tools = [tool]\n",
    "tools"
   ]
  },
  {
   "cell_type": "code",
   "execution_count": 22,
   "metadata": {},
   "outputs": [
    {
     "data": {
      "text/plain": [
       "True"
      ]
     },
     "execution_count": 22,
     "metadata": {},
     "output_type": "execute_result"
    }
   ],
   "source": [
    "load_dotenv()"
   ]
  },
  {
   "cell_type": "code",
   "execution_count": 23,
   "metadata": {},
   "outputs": [],
   "source": [
    "from langchain_google_genai import ChatGoogleGenerativeAI\n",
    "\n",
    "llm = ChatGoogleGenerativeAI(model=\"gemini-2.0-flash-exp\",temperature=0.2,max_tokens=None)"
   ]
  },
  {
   "cell_type": "code",
   "execution_count": 24,
   "metadata": {},
   "outputs": [
    {
     "data": {
      "text/plain": [
       "AIMessage(content='Okay, let\\'s create a roadmap for your IELTS preparation. This roadmap will cover key areas, resources, and a suggested timeline. Remember that this is a general guide, and you\\'ll need to adjust it based on your current level, target score, and available time.\\n\\n**I. Understanding the IELTS Exam**\\n\\n*   **Goal:** Familiarize yourself with the exam format, question types, scoring criteria, and test regulations.\\n*   **Actions:**\\n    *   **Research:** Visit the official IELTS website (ielts.org) for comprehensive information.\\n    *   **Format:** Understand the differences between Academic and General Training modules (choose the one relevant to your purpose).\\n    *   **Sections:** Learn about the four sections: Listening, Reading, Writing, and Speaking.\\n    *   **Scoring:** Understand the band scores (1-9) and how they are calculated.  Pay close attention to the scoring criteria for Writing and Speaking.\\n    *   **Timing:**  Know the time limits for each section.\\n    *   **Rules:**  Be aware of the test day regulations (ID requirements, prohibited items, etc.).\\n*   **Resources:**\\n    *   **Official IELTS Website (ielts.org):** The primary source of information.\\n    *   **IELTS Practice Tests:** Download sample tests from the official website.\\n    *   **British Council and IDP Websites:** Offer information, preparation courses, and test registration.\\n\\n**II. Assessment and Goal Setting**\\n\\n*   **Goal:** Determine your current English proficiency level and set realistic target scores for each section and overall.\\n*   **Actions:**\\n    *   **Take a Practice Test:** Complete a full IELTS practice test under timed conditions.  This will give you a baseline score.\\n    *   **Analyze Your Results:** Identify your strengths and weaknesses in each section.  Where are you losing marks?\\n    *   **Set Target Scores:**  Determine the overall band score you need and the individual band scores required in each section.  Consider the requirements of the institution or organization you are applying to.\\n    *   **Create a Study Plan:**  Develop a study schedule that focuses on your weaknesses and allocates sufficient time for each section.\\n*   **Resources:**\\n    *   **Official IELTS Practice Tests:**  Essential for accurate assessment.\\n    *   **IELTS Scoring Band Descriptors:**  Understand what each band score represents in terms of language proficiency.\\n    *   **Online IELTS Score Calculators:**  Can help you estimate your overall band score based on individual section scores.\\n\\n**III. Skill Development (Listening, Reading, Writing, Speaking)**\\n\\nThis is the core of your preparation.  Dedicate the most time and effort to improving your skills in each area.\\n\\n**A. Listening**\\n\\n*   **Goal:** Improve your ability to understand spoken English in various accents and contexts.\\n*   **Actions:**\\n    *   **Practice Regularly:** Listen to a variety of audio materials daily.\\n    *   **Focus on Different Accents:**  Expose yourself to British, American, Australian, and other English accents.\\n    *   **Note-Taking:** Practice taking notes while listening.\\n    *   **Question Types:** Familiarize yourself with different question types (multiple choice, matching, form completion, etc.).\\n    *   **Concentration:**  Improve your ability to focus and maintain concentration during the listening test.\\n*   **Resources:**\\n    *   **Official IELTS Practice Tests:**  The best source of realistic listening materials.\\n    *   **Podcasts:** BBC Podcasts, NPR Podcasts, The IELTS Podcast.\\n    *   **Audiobooks:**  Listen to English audiobooks.\\n    *   **TED Talks:**  Excellent for listening comprehension and exposure to diverse topics.\\n    *   **News Broadcasts:** BBC News, CNN, ABC News.\\n    *   **IELTS Listening Practice Books:**  Cambridge IELTS series, Barron\\'s IELTS Superpack.\\n\\n**B. Reading**\\n\\n*   **Goal:** Improve your reading speed, comprehension, and ability to identify key information in academic and general texts.\\n*   **Actions:**\\n    *   **Read Widely:**  Read a variety of English texts, including articles, books, and newspapers.\\n    *   **Skimming and Scanning:**  Practice skimming (reading quickly for the main idea) and scanning (reading quickly for specific information).\\n    *   **Vocabulary Building:**  Learn new words and phrases regularly.\\n    *   **Question Types:**  Familiarize yourself with different question types (multiple choice, True/False/Not Given, matching headings, etc.).\\n    *   **Time Management:**  Practice reading passages within the time limit.\\n*   **Resources:**\\n    *   **Official IELTS Practice Tests:**  Essential for realistic reading materials.\\n    *   **Newspapers and Magazines:** The Guardian, The New York Times, National Geographic.\\n    *   **Academic Journals:**  Access academic journals online (if preparing for the Academic module).\\n    *   **IELTS Reading Practice Books:** Cambridge IELTS series, Barron\\'s IELTS Superpack.\\n    *   **Online Reading Comprehension Exercises:**  Many websites offer free reading comprehension exercises.\\n\\n**C. Writing**\\n\\n*   **Goal:** Improve your ability to write clear, coherent, and grammatically correct essays and reports.\\n*   **Actions:**\\n    *   **Understand the Task Requirements:**  Carefully analyze the task prompt and understand what is being asked.\\n    *   **Planning:**  Plan your essay or report before you start writing.\\n    *   **Structure:**  Use a clear and logical structure (introduction, body paragraphs, conclusion).\\n    *   **Grammar and Vocabulary:**  Use correct grammar and a wide range of vocabulary.\\n    *   **Cohesion and Coherence:**  Use linking words and phrases to connect your ideas.\\n    *   **Practice Regularly:**  Write essays and reports regularly and get feedback on your writing.\\n*   **Resources:**\\n    *   **Official IELTS Practice Tests:**  Provide sample writing tasks.\\n    *   **IELTS Writing Task 1 and Task 2 Model Answers:**  Analyze model answers to understand what is expected.\\n    *   **Online Grammar and Vocabulary Resources:**  Grammarly, Oxford Learner\\'s Dictionaries.\\n    *   **IELTS Writing Correction Services:**  Get feedback from experienced IELTS teachers.\\n    *   **IELTS Writing Books:**  \"IELTS Advantage: Writing Skills\" by Lewis Richards and Richard Brown, \"The Official Cambridge Guide to IELTS\"\\n    *   **Simon\\'s IELTS Blog:**  A popular blog with helpful tips and model answers.\\n\\n**D. Speaking**\\n\\n*   **Goal:** Improve your fluency, pronunciation, grammar, and vocabulary in spoken English.\\n*   **Actions:**\\n    *   **Practice Speaking Regularly:**  Speak English as much as possible.\\n    *   **Record Yourself:**  Record yourself speaking and listen back to identify areas for improvement.\\n    *   **Practice with a Partner:**  Practice speaking with a native English speaker or another IELTS candidate.\\n    *   **Familiarize Yourself with the Topics:**  Prepare for common IELTS speaking topics (family, hobbies, education, work, etc.).\\n    *   **Improve Pronunciation:**  Focus on improving your pronunciation and intonation.\\n    *   **Use a Wide Range of Vocabulary:**  Use a variety of vocabulary to express yourself clearly and accurately.\\n*   **Resources:**\\n    *   **Official IELTS Practice Tests:**  Provide sample speaking questions.\\n    *   **IELTS Speaking Cue Cards:**  Practice answering cue card questions.\\n    *   **Online Language Exchange Partners:**  Find language exchange partners online.\\n    *   **IELTS Speaking Books:**  \"IELTS Advantage: Speaking & Listening\" by David Evans, \"The Official Cambridge Guide to IELTS\"\\n    *   **YouTube Channels:**  IELTS Liz, IELTS Advantage.\\n\\n**IV. Practice Tests and Mock Exams**\\n\\n*   **Goal:**  Simulate the actual IELTS exam experience and identify areas for further improvement.\\n*   **Actions:**\\n    *   **Take Full Practice Tests:**  Complete full IELTS practice tests under timed conditions.\\n    *   **Analyze Your Results:**  Identify your strengths and weaknesses in each section.\\n    *   **Review Your Answers:**  Review your answers and understand why you got them right or wrong.\\n    *   **Focus on Your Weaknesses:**  Spend more time practicing the areas where you are struggling.\\n*   **Resources:**\\n    *   **Official IELTS Practice Tests:**  The most accurate representation of the real exam.\\n    *   **IELTS Practice Test Books:**  Cambridge IELTS series, Barron\\'s IELTS Superpack.\\n    *   **Online IELTS Practice Tests:**  Many websites offer free and paid IELTS practice tests.\\n\\n**V. Test Day Preparation**\\n\\n*   **Goal:**  Prepare yourself mentally and logistically for the test day.\\n*   **Actions:**\\n    *   **Review Your Study Materials:**  Review your notes and practice tests.\\n    *   **Get Enough Sleep:**  Get a good night\\'s sleep before the test.\\n    *   **Eat a Healthy Breakfast:**  Eat a healthy breakfast to fuel your brain.\\n    *   **Arrive Early:**  Arrive at the test center early to avoid stress.\\n    *   **Bring Your ID:**  Bring your required identification documents.\\n    *   **Stay Calm and Focused:**  Stay calm and focused during the test.\\n*   **Resources:**\\n    *   **IELTS Test Day Information:**  Review the information provided by the test center.\\n    *   **Relaxation Techniques:**  Practice relaxation techniques to manage stress.\\n\\n**VI. Timeline (Example - Adjust to Your Needs)**\\n\\nThis is a sample timeline for a 3-month preparation period.  Adjust it based on your current level and target score.\\n\\n*   **Month 1: Foundation Building**\\n    *   **Week 1-2:**  Understand the IELTS exam format, scoring, and regulations. Take a practice test to assess your current level. Set target scores.\\n    *   **Week 3-4:**  Focus on improving your grammar and vocabulary.  Start practicing listening and reading skills.\\n\\n*   **Month 2: Skill Development**\\n    *   **Week 5-8:**  Dedicate time to each section (Listening, Reading, Writing, Speaking) based on your weaknesses.  Practice regularly and get feedback on your writing and speaking.\\n\\n*   **Month 3: Practice and Refinement**\\n    *   **Week 9-11:**  Take full practice tests under timed conditions.  Analyze your results and focus on your weaknesses.\\n    *   **Week 12:**  Review your study materials, get enough sleep, and prepare for the test day.\\n\\n**VII. Key Considerations**\\n\\n*   **Consistency:**  Study consistently, even if it\\'s just for a short period each day.\\n*   **Focus:**  Focus on your weaknesses and spend more time practicing the areas where you are struggling.\\n*   **Feedback:**  Get feedback on your writing and speaking from experienced IELTS teachers or native English speakers.\\n*   **Motivation:**  Stay motivated and don\\'t give up!\\n*   **Adaptability:**  Be prepared to adapt your study plan based on your progress and needs.\\n*   **Realistic Expectations:**  Set realistic goals and be patient with yourself.  Improving your English proficiency takes time and effort.\\n\\n**VIII.  Specific Tips for Each Section:**\\n\\n*   **Listening:** Practice listening for specific information, such as names, dates, and places.  Pay attention to distractors.\\n*   **Reading:**  Practice skimming and scanning to find the answers quickly.  Don\\'t spend too much time on any one question.\\n*   **Writing:**  Plan your essay or report before you start writing.  Use a clear and logical structure.  Check your grammar and spelling carefully.\\n*   **Speaking:**  Speak clearly and confidently.  Use a wide range of vocabulary.  Don\\'t be afraid to ask the examiner to repeat a question.\\n\\nThis roadmap provides a comprehensive guide to preparing for the IELTS exam. Remember to tailor it to your individual needs and learning style. Good luck!', additional_kwargs={}, response_metadata={'prompt_feedback': {'block_reason': 0, 'safety_ratings': []}, 'finish_reason': 'STOP', 'model_name': 'gemini-2.0-flash-exp', 'safety_ratings': []}, id='run-a2fb1a0a-373e-4d30-b21d-5773fb53f673-0', usage_metadata={'input_tokens': 3, 'output_tokens': 2603, 'total_tokens': 2606, 'input_token_details': {'cache_read': 0}})"
      ]
     },
     "execution_count": 24,
     "metadata": {},
     "output_type": "execute_result"
    }
   ],
   "source": [
    "llm.invoke(\"Roadmap for IELTS\")"
   ]
  },
  {
   "cell_type": "code",
   "execution_count": 26,
   "metadata": {},
   "outputs": [
    {
     "ename": "AttributeError",
     "evalue": "'ChatGoogleGenerativeAI' object has no attribute 'bind_tool'",
     "output_type": "error",
     "traceback": [
      "\u001b[31m---------------------------------------------------------------------------\u001b[39m",
      "\u001b[31mAttributeError\u001b[39m                            Traceback (most recent call last)",
      "\u001b[36mCell\u001b[39m\u001b[36m \u001b[39m\u001b[32mIn[26]\u001b[39m\u001b[32m, line 1\u001b[39m\n\u001b[32m----> \u001b[39m\u001b[32m1\u001b[39m model_bind_tools = \u001b[43mllm\u001b[49m\u001b[43m.\u001b[49m\u001b[43mbind_tool\u001b[49m(tools)\n\u001b[32m      2\u001b[39m model_bind_tools\n",
      "\u001b[36mFile \u001b[39m\u001b[32md:\\Programming\\AI_Backend\\myvenv\\Lib\\site-packages\\pydantic\\main.py:994\u001b[39m, in \u001b[36mBaseModel.__getattr__\u001b[39m\u001b[34m(self, item)\u001b[39m\n\u001b[32m    991\u001b[39m     \u001b[38;5;28;01mreturn\u001b[39;00m \u001b[38;5;28msuper\u001b[39m().\u001b[34m__getattribute__\u001b[39m(item)  \u001b[38;5;66;03m# Raises AttributeError if appropriate\u001b[39;00m\n\u001b[32m    992\u001b[39m \u001b[38;5;28;01melse\u001b[39;00m:\n\u001b[32m    993\u001b[39m     \u001b[38;5;66;03m# this is the current error\u001b[39;00m\n\u001b[32m--> \u001b[39m\u001b[32m994\u001b[39m     \u001b[38;5;28;01mraise\u001b[39;00m \u001b[38;5;167;01mAttributeError\u001b[39;00m(\u001b[33mf\u001b[39m\u001b[33m'\u001b[39m\u001b[38;5;132;01m{\u001b[39;00m\u001b[38;5;28mtype\u001b[39m(\u001b[38;5;28mself\u001b[39m).\u001b[34m__name__\u001b[39m\u001b[38;5;132;01m!r}\u001b[39;00m\u001b[33m object has no attribute \u001b[39m\u001b[38;5;132;01m{\u001b[39;00mitem\u001b[38;5;132;01m!r}\u001b[39;00m\u001b[33m'\u001b[39m)\n",
      "\u001b[31mAttributeError\u001b[39m: 'ChatGoogleGenerativeAI' object has no attribute 'bind_tool'"
     ]
    }
   ],
   "source": [
    "model_bind_tools = llm.bind_tool(tools)\n",
    "model_bind_tools"
   ]
  },
  {
   "cell_type": "code",
   "execution_count": null,
   "metadata": {},
   "outputs": [],
   "source": [
    "model"
   ]
  }
 ],
 "metadata": {
  "kernelspec": {
   "display_name": "myvenv",
   "language": "python",
   "name": "python3"
  },
  "language_info": {
   "codemirror_mode": {
    "name": "ipython",
    "version": 3
   },
   "file_extension": ".py",
   "mimetype": "text/x-python",
   "name": "python",
   "nbconvert_exporter": "python",
   "pygments_lexer": "ipython3",
   "version": "3.12.10"
  }
 },
 "nbformat": 4,
 "nbformat_minor": 2
}
