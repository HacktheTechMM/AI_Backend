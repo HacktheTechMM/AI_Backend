{
 "cells": [
  {
   "cell_type": "code",
   "execution_count": null,
   "metadata": {},
   "outputs": [
    {
     "data": {
      "text/plain": [
       "True"
      ]
     },
     "execution_count": 1,
     "metadata": {},
     "output_type": "execute_result"
    }
   ],
   "source": [
    "from dotenv import load_dotenv \n",
    "load_dotenv()"
   ]
  },
  {
   "cell_type": "code",
   "execution_count": null,
   "metadata": {},
   "outputs": [],
   "source": [
    "from langchain_groq import ChatGroq \n",
    "\n",
    "model = ChatGroq(model_name=\"meta-llama/llama-4-scout-17b-16e-instruct\")"
   ]
  },
  {
   "cell_type": "code",
   "execution_count": 3,
   "metadata": {},
   "outputs": [],
   "source": [
    "from langchain_core.prompts import ChatPromptTemplate, MessagesPlaceholder\n",
    "\n",
    "system_prompt = \"\"\"\n",
    "Return with only json outputs.\n",
    "{{\n",
    "  \"id\": ,\n",
    "  \"title\": \"\",\n",
    "  \"description\": \"\",\n",
    "  \"language\": \"\",\n",
    "  \"difficulty_level\": \"\",\n",
    "  \"ai_generated\": ,\n",
    "  \"steps\": [\n",
    "    {{\n",
    "      \"step_number\": 1,\n",
    "      \"title\": \"\",\n",
    "      \"description\": \"\",\n",
    "      \"estimated_time_minutes\": \n",
    "    }},\n",
    "    {{\n",
    "      \"step_number\": 2,\n",
    "      \"title\": \"\",\n",
    "      \"description\": \"\",\n",
    "      \"estimated_time_minutes\":\n",
    "    }},\n",
    "    {{\n",
    "      \"step_number\": 3,\n",
    "      \"title\": \"Frontend Framework - \",\n",
    "      \"description\": \"\",\n",
    "      \"estimated_time_minutes\": \n",
    "    }},\n",
    "    {{\n",
    "      \"step_number\": 4,\n",
    "      \"title\": \"\",\n",
    "      \"description\": \",\n",
    "      \"estimated_time_minutes\": \n",
    "    }},\n",
    "    {{\n",
    "      \"step_number\": 5,\n",
    "      \"title\": \"\",\n",
    "      \"description\": \"\",\n",
    "      \"estimated_time_minutes\":\n",
    "    }}\n",
    "  ]\n",
    "}}\n",
    "\"\"\"\n",
    "\n",
    "prompt_template = ChatPromptTemplate.from_messages(\n",
    "    [\n",
    "        (\"system\", system_prompt),\n",
    "        (\"human\", \"{input}\")\n",
    "    ]\n",
    ")\n",
    "\n",
    "runnable = prompt_template | model\n"
   ]
  },
  {
   "cell_type": "code",
   "execution_count": 4,
   "metadata": {},
   "outputs": [],
   "source": [
    "result = runnable.invoke({\"input\": \"I want to learn AI Engineer now I am beginner level.\"})"
   ]
  },
  {
   "cell_type": "code",
   "execution_count": 5,
   "metadata": {},
   "outputs": [
    {
     "data": {
      "text/plain": [
       "' \\n{\\n \"id\": 1,\\n \"title\": \"AI Engineer\",\\n \"description\": \"Learn the fundamentals and advanced concepts of AI engineering, including machine learning, deep learning, and AI model deployment.\",\\n \"language\": \"English\",\\n \"difficulty_level\": \"beginner\",\\n \"ai_generated\": true,\\n \"steps\": [\\n {\\n \"step_number\":1,\\n \"title\": \"Introduction to AI and Machine Learning\",\\n \"description\": \"Understand the basics of artificial intelligence, machine learning, and its applications.\",\\n \"resource_url\": \"https://www.coursera.org/courses?query=ai%20and%20ml\",\\n \"estimated_time_minutes\": 120\\n },\\n {\\n \"step_number\":2,\\n \"title\": \"Programming Skills - Python\",\\n \"description\": \"Learn Python programming and its popular libraries used in AI and machine learning.\",\\n \"resource_url\": \"https://www.python.org/\",\\n \"estimated_time_minutes\": 150\\n },\\n {\\n \"step_number\":3,\\n \"title\": \"Machine Learning - Supervised and Unsupervised Learning\",\\n \"description\": \"Understand supervised and unsupervised learning concepts, regression, classification, clustering, and dimensionality reduction.\",\\n \"resource_url\": \"https://scotflora.gitBooks.io/machine-learning/content/supervised_learning.html\",\\n \"estimated_time_minutes\": 180\\n },\\n {\\n \"step_number\":4,\\n \"title\": \"Deep Learning - Neural Networks\",\\n \"description\": \"Learn the basics of deep learning, neural networks, and popular DL frameworks like TensorFlow and Keras.\",\\n \"resource_url\": \"https://www.tensorflow.org/\",\\n \"estimated_time_minutes\": 200\\n },\\n {\\n \"step_number\":5,\\n \"title\": \"AI Model Deployment and Engineering\",\\n \"description\": \"Learn how to deploy AI models, engineering AI systems, and understand model interpretability.\",\\n \"resource_url\": \"https://www.clouddeploy.com/\",\\n \"estimated_time_minutes\": 150\\n }\\n ]\\n}'"
      ]
     },
     "execution_count": 5,
     "metadata": {},
     "output_type": "execute_result"
    }
   ],
   "source": [
    "result.content"
   ]
  },
  {
   "cell_type": "code",
   "execution_count": 8,
   "metadata": {},
   "outputs": [
    {
     "data": {
      "text/plain": [
       "' \\n{\\n \"id\": 1,\\n \"title\": \"AI Engineer\",\\n \"description\": \"Learn the fundamentals and advanced concepts of AI engineering, including machine learning, deep learning, and AI model deployment.\",\\n \"language\": \"English\",\\n \"difficulty_level\": \"beginner\",\\n \"ai_generated\": true,\\n \"steps\": [\\n {\\n \"step_number\":1,\\n \"title\": \"Introduction to AI and Machine Learning\",\\n \"description\": \"Understand the basics of artificial intelligence, machine learning, and its applications.\",\\n \"resource_url\": \"https://www.coursera.org/courses?query=ai%20and%20ml\",\\n \"estimated_time_minutes\": 120\\n },\\n {\\n \"step_number\":2,\\n \"title\": \"Programming Skills - Python\",\\n \"description\": \"Learn Python programming and its popular libraries used in AI and machine learning.\",\\n \"resource_url\": \"https://www.python.org/\",\\n \"estimated_time_minutes\": 150\\n },\\n {\\n \"step_number\":3,\\n \"title\": \"Machine Learning - Supervised and Unsupervised Learning\",\\n \"description\": \"Understand supervised and unsupervised learning concepts, regression, classification, clustering, and dimensionality reduction.\",\\n \"resource_url\": \"https://scotflora.gitBooks.io/machine-learning/content/supervised_learning.html\",\\n \"estimated_time_minutes\": 180\\n },\\n {\\n \"step_number\":4,\\n \"title\": \"Deep Learning - Neural Networks\",\\n \"description\": \"Learn the basics of deep learning, neural networks, and popular DL frameworks like TensorFlow and Keras.\",\\n \"resource_url\": \"https://www.tensorflow.org/\",\\n \"estimated_time_minutes\": 200\\n },\\n {\\n \"step_number\":5,\\n \"title\": \"AI Model Deployment and Engineering\",\\n \"description\": \"Learn how to deploy AI models, engineering AI systems, and understand model interpretability.\",\\n \"resource_url\": \"https://www.clouddeploy.com/\",\\n \"estimated_time_minutes\": 150\\n }\\n ]\\n}'"
      ]
     },
     "execution_count": 8,
     "metadata": {},
     "output_type": "execute_result"
    }
   ],
   "source": [
    "(result.content)"
   ]
  },
  {
   "cell_type": "code",
   "execution_count": null,
   "metadata": {},
   "outputs": [
    {
     "name": "stdout",
     "output_type": "stream",
     "text": [
      "['\\n  \"id\"', 'input']\n"
     ]
    }
   ],
   "source": [
    "print(prompt_template.input_variables)\n"
   ]
  },
  {
   "cell_type": "code",
   "execution_count": null,
   "metadata": {},
   "outputs": [],
   "source": []
  }
 ],
 "metadata": {
  "kernelspec": {
   "display_name": "myvenv",
   "language": "python",
   "name": "python3"
  },
  "language_info": {
   "codemirror_mode": {
    "name": "ipython",
    "version": 3
   },
   "file_extension": ".py",
   "mimetype": "text/x-python",
   "name": "python",
   "nbconvert_exporter": "python",
   "pygments_lexer": "ipython3",
   "version": "3.12.10"
  }
 },
 "nbformat": 4,
 "nbformat_minor": 2
}
