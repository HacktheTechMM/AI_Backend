{
 "cells": [
  {
   "cell_type": "code",
   "execution_count": 1,
   "metadata": {},
   "outputs": [
    {
     "data": {
      "text/plain": [
       "True"
      ]
     },
     "execution_count": 1,
     "metadata": {},
     "output_type": "execute_result"
    }
   ],
   "source": [
    "from dotenv import load_dotenv \n",
    "\n",
    "load_dotenv()"
   ]
  },
  {
   "cell_type": "code",
   "execution_count": 2,
   "metadata": {},
   "outputs": [],
   "source": [
    "from langchain_groq import ChatGroq \n",
    "\n",
    "model = ChatGroq(model_name=\"meta-llama/llama-4-scout-17b-16e-instruct\")"
   ]
  },
  {
   "cell_type": "code",
   "execution_count": 16,
   "metadata": {},
   "outputs": [],
   "source": [
    "from langchain_core.prompts import ChatPromptTemplate, MessagesPlaceholder\n",
    "\n",
    "system_prompt = \"\"\"\n",
    "Return with these outputs.\n",
    "{{\n",
    "  \"id\": ,\n",
    "  \"title\": \"\",\n",
    "  \"description\": \"\",\n",
    "  \"language\": \"\",\n",
    "  \"difficulty_level\": \"\",\n",
    "  \"ai_generated\": ,\n",
    "  \"steps\": [\n",
    "    {{\n",
    "      \"step_number\": 1,\n",
    "      \"title\": \"\",\n",
    "      \"description\": \"\",\n",
    "      \"resource_url\": \"\",\n",
    "      \"estimated_time_minutes\": \n",
    "    }},\n",
    "    {{\n",
    "      \"step_number\": 2,\n",
    "      \"title\": \"\",\n",
    "      \"description\": \"\",\n",
    "      \"resource_url\": \"\",\n",
    "      \"estimated_time_minutes\":\n",
    "    }},\n",
    "    {{\n",
    "      \"step_number\": 3,\n",
    "      \"title\": \"Frontend Framework - \",\n",
    "      \"description\": \"\",\n",
    "      \"resource_url\": \"\",\n",
    "      \"estimated_time_minutes\": \n",
    "    }},\n",
    "    {{\n",
    "      \"step_number\": 4,\n",
    "      \"title\": \"\",\n",
    "      \"description\": \",\n",
    "      \"resource_url\": \"\",\n",
    "      \"estimated_time_minutes\": \n",
    "    }},\n",
    "    {{\n",
    "      \"step_number\": 5,\n",
    "      \"title\": \"\",\n",
    "      \"description\": \"\",\n",
    "      \"resource_url\": \"\",\n",
    "      \"estimated_time_minutes\":\n",
    "    }}\n",
    "  ]\n",
    "}}\n",
    "\"\"\"\n",
    "\n",
    "prompt_template = ChatPromptTemplate.from_messages(\n",
    "    [\n",
    "        (\"system\", system_prompt),\n",
    "        (\"human\", \"{input}\")\n",
    "    ]\n",
    ")\n",
    "\n",
    "runnable = prompt_template | model\n"
   ]
  },
  {
   "cell_type": "code",
   "execution_count": 18,
   "metadata": {},
   "outputs": [],
   "source": [
    "result = runnable.invoke({\"input\": \"I want to learn AI Engineer now I am beginner level.\"})"
   ]
  },
  {
   "cell_type": "code",
   "execution_count": 19,
   "metadata": {},
   "outputs": [
    {
     "data": {
      "text/plain": [
       "'Here\\'s a customized learning plan for you to become an AI Engineer:\\n\\n**Learning Plan: AI Engineer**\\n\\n```\\n{\\n  \"id\": 1,\\n  \"title\": \"AI Engineer Learning Plan\",\\n  \"description\": \"A step-by-step guide to becoming an AI Engineer\",\\n  \"language\": \"English\",\\n  \"difficulty_level\": \"Beginner\",\\n  \"ai_generated\": true,\\n  \"steps\": [\\n    {\\n      \"step_number\": 1,\\n      \"title\": \"Introduction to AI and Machine Learning\",\\n      \"description\": \"Learn the basics of AI, machine learning, and deep learning\",\\n      \"resource_url\": \"https://www.coursera.org/specializations/machine-learning\",\\n      \"estimated_time_minutes\": 120\\n    },\\n    {\\n      \"step_number\": 2,\\n      \"title\": \"Python Programming\",\\n      \"description\": \"Learn Python programming language and its popular libraries\",\\n      \"resource_url\": \"https://www.python.org/about/gettingstarted/coding/\",\\n      \"estimated_time_minutes\": 180\\n    },\\n    {\\n      \"step_number\": 3,\\n      \"title\": \"Frontend Framework - No Frontend Required\",\\n      \"description\": \"As an AI Engineer, you won\\'t need to focus on frontend development. However, having some knowledge of HTML, CSS, and JavaScript can be helpful.\",\\n      \"resource_url\": \"\",\\n      \"estimated_time_minutes\": 0\\n    },\\n    {\\n      \"step_number\": 4,\\n      \"title\": \"Machine Learning Frameworks\",\\n      \"description\": \"Learn popular machine learning frameworks such as TensorFlow, PyTorch, or Scikit-learn\",\\n      \"resource_url\": \"https://www.tensorflow.org/tutorials\",\\n      \"estimated_time_minutes\": 240\\n    },\\n    {\\n      \"step_number\": 5,\\n      \"title\": \"Practice and Build Projects\",\\n      \"description\": \"Practice your skills by building real-world AI projects\",\\n      \"resource_url\": \"https://github.com/kolaveridi/keras-Tutorials\",\\n      \"estimated_time_minutes\": 300\\n    }\\n  ]\\n}\\n```\\n\\nThis plan consists of 5 steps:\\n\\n1. **Introduction to AI and Machine Learning**: Learn the basics of AI, machine learning, and deep learning (120 minutes).\\n2. **Python Programming**: Learn Python programming language and its popular libraries (180 minutes).\\n3. **Frontend Framework - No Frontend Required**: As an AI Engineer, you won\\'t need to focus on frontend development. However, having some knowledge of HTML, CSS, and JavaScript can be helpful (0 minutes).\\n4. **Machine Learning Frameworks**: Learn popular machine learning frameworks such as TensorFlow, PyTorch, or Scikit-learn (240 minutes).\\n5. **Practice and Build Projects**: Practice your skills by building real-world AI projects (300 minutes).\\n\\nFeel free to adjust the estimated time according to your pace and learning style. Good luck on your AI Engineer journey!'"
      ]
     },
     "execution_count": 19,
     "metadata": {},
     "output_type": "execute_result"
    }
   ],
   "source": [
    "result.content"
   ]
  },
  {
   "cell_type": "code",
   "execution_count": null,
   "metadata": {},
   "outputs": [
    {
     "name": "stdout",
     "output_type": "stream",
     "text": [
      "['\\n  \"id\"', 'input']\n"
     ]
    }
   ],
   "source": [
    "print(prompt_template.input_variables)\n"
   ]
  },
  {
   "cell_type": "code",
   "execution_count": null,
   "metadata": {},
   "outputs": [],
   "source": []
  }
 ],
 "metadata": {
  "kernelspec": {
   "display_name": "myvenv",
   "language": "python",
   "name": "python3"
  },
  "language_info": {
   "codemirror_mode": {
    "name": "ipython",
    "version": 3
   },
   "file_extension": ".py",
   "mimetype": "text/x-python",
   "name": "python",
   "nbconvert_exporter": "python",
   "pygments_lexer": "ipython3",
   "version": "3.12.10"
  }
 },
 "nbformat": 4,
 "nbformat_minor": 2
}
