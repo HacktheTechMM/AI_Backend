{
 "cells": [
  {
   "cell_type": "code",
   "execution_count": 1,
   "metadata": {},
   "outputs": [
    {
     "data": {
      "text/plain": [
       "True"
      ]
     },
     "execution_count": 1,
     "metadata": {},
     "output_type": "execute_result"
    }
   ],
   "source": [
    "from dotenv import load_dotenv\n",
    "\n",
    "load_dotenv()"
   ]
  },
  {
   "cell_type": "code",
   "execution_count": 8,
   "metadata": {},
   "outputs": [],
   "source": [
    "from langchain_groq import ChatGroq\n",
    "\n",
    "model = ChatGroq(model_name=\"meta-llama/llama-4-scout-17b-16e-instruct\")"
   ]
  },
  {
   "cell_type": "code",
   "execution_count": 13,
   "metadata": {},
   "outputs": [],
   "source": [
    "from langchain_core.prompts import ChatPromptTemplate\n",
    "\n",
    "system_prompt = \"\"\"\n",
    "Return with only json outputs.\n",
    "  {{\n",
    "    id: 1,\n",
    "    question: \"\",\n",
    "    options: [\"\",\"\",\"\",\"\"\n",
    "    ],\n",
    "    correctAnswer: \"\",\n",
    "  }},\n",
    "  {{\n",
    "    id: 2,\n",
    "    question: \"\",\n",
    "    options: [],\n",
    "    correctAnswer: \"\",\n",
    "  }},\n",
    "  {{\n",
    "    id: 3,\n",
    "    question: \"\",\n",
    "    options: [\n",
    "      \"\",\n",
    "      \"\",\n",
    "      \"\",\n",
    "      \"\",\n",
    "    ],\n",
    "    correctAnswer: \"\",\n",
    "  }},\n",
    "  {{\n",
    "    id: 4,\n",
    "    question: \"\",\n",
    "    options: [\"\", \"\", \"\", \"\"],\n",
    "    correctAnswer: \"\",\n",
    "  }},\n",
    "  {{\n",
    "    id: 5,\n",
    "    question: \"\",\n",
    "    options: [\"\", \"\", \"\", \"\"],\n",
    "    correctAnswer: \"\",\n",
    "  }},\n",
    "\"\"\""
   ]
  },
  {
   "cell_type": "code",
   "execution_count": 14,
   "metadata": {},
   "outputs": [],
   "source": [
    "prompt_template = ChatPromptTemplate.from_messages(\n",
    "    [\n",
    "        (\"system\", system_prompt),\n",
    "        (\"human\", \"{input}\")\n",
    "    ]\n",
    ")\n",
    "\n",
    "runnable = prompt_template | model\n"
   ]
  },
  {
   "cell_type": "code",
   "execution_count": 15,
   "metadata": {},
   "outputs": [],
   "source": [
    "result = runnable.invoke({\"input\": \"Beginner Python\"})"
   ]
  },
  {
   "cell_type": "code",
   "execution_count": 16,
   "metadata": {},
   "outputs": [
    {
     "data": {
      "text/plain": [
       "'```\\n[\\n  {\\n    \"id\": 1,\\n    \"question\": \"What is the print function in Python used for?\",\\n    \"options\": [\"To declare a variable\", \"To output text to the screen\", \"To get user input\", \"To exit the program\"],\\n    \"correctAnswer\": \"To output text to the screen\"\\n  },\\n  {\\n    \"id\": 2,\\n    \"question\": \"Which of the following is a basic data type in Python?\",\\n    \"options\": [\"String\", \"Array\", \"Boolean\", \"All of the above\"],\\n    \"correctAnswer\": \"String\"\\n  },\\n  {\\n    \"id\": 3,\\n    \"question\": \"What is the purpose of indentation in Python?\",\\n    \"options\": [\\n      \"To make the code look neat\",\\n      \"To define a block of code\",\\n      \"To comment out a line\",\\n      \"To assign a value to a variable\"\\n    ],\\n    \"correctAnswer\": \"To define a block of code\"\\n  },\\n  {\\n    \"id\": 4,\\n    \"question\": \"How do you comment out a line in Python?\",\\n    \"options\": [\"// comment\", \"# comment\", \"$ comment\", \"* comment\"],\\n    \"correctAnswer\": \"# comment\"\\n  },\\n  {\\n    \"id\": 5,\\n    \"question\": \"What is the purpose of the len() function in Python?\",\\n    \"options\": [\"To get the length of a string or list\", \"To convert a string to uppercase\", \"To split a string into substrings\", \"To join two strings together\"],\\n    \"correctAnswer\": \"To get the length of a string or list\"\\n  }\\n]\\n```'"
      ]
     },
     "execution_count": 16,
     "metadata": {},
     "output_type": "execute_result"
    }
   ],
   "source": [
    "result.content"
   ]
  },
  {
   "cell_type": "code",
   "execution_count": null,
   "metadata": {},
   "outputs": [],
   "source": []
  },
  {
   "cell_type": "code",
   "execution_count": null,
   "metadata": {},
   "outputs": [],
   "source": []
  }
 ],
 "metadata": {
  "kernelspec": {
   "display_name": "myvenv",
   "language": "python",
   "name": "python3"
  },
  "language_info": {
   "codemirror_mode": {
    "name": "ipython",
    "version": 3
   },
   "file_extension": ".py",
   "mimetype": "text/x-python",
   "name": "python",
   "nbconvert_exporter": "python",
   "pygments_lexer": "ipython3",
   "version": "3.12.10"
  }
 },
 "nbformat": 4,
 "nbformat_minor": 2
}
