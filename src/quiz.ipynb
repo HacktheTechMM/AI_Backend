{
 "cells": [
  {
   "cell_type": "code",
   "execution_count": 1,
   "metadata": {},
   "outputs": [
    {
     "data": {
      "text/plain": [
       "True"
      ]
     },
     "execution_count": 1,
     "metadata": {},
     "output_type": "execute_result"
    }
   ],
   "source": [
    "from dotenv import load_dotenv \n",
    "\n",
    "load_dotenv()"
   ]
  },
  {
   "cell_type": "code",
   "execution_count": 2,
   "metadata": {},
   "outputs": [],
   "source": [
    "from langchain_groq import ChatGroq \n",
    "\n",
    "model = ChatGroq(model_name=\"meta-llama/llama-4-scout-17b-16e-instruct\")"
   ]
  },
  {
   "cell_type": "code",
   "execution_count": 3,
   "metadata": {},
   "outputs": [],
   "source": [
    "from langchain_core.prompts import ChatPromptTemplate, MessagesPlaceholder\n",
    "from langchain_core.output_parsers import StrOutputParser\n",
    "system_prompt1 = \"\"\"\n",
    "based on the user level and programming languages, please provide 5 quizs. \n",
    "{{level_programming_languages}}.\n",
    "\"\"\"\n",
    "\n",
    "prompt_template1 = ChatPromptTemplate.from_messages(\n",
    "    [\n",
    "        (\"system\", system_prompt1),\n",
    "        MessagesPlaceholder(variable_name=\"history\"),\n",
    "        (\"human\", \"{level_programming_languages}\")\n",
    "    ]\n",
    ")\n",
    "\n",
    "system_prompt2 = \"\"\"\n",
    "Give answers.\n",
    "\"\"\"\n",
    "\n",
    "prompt_template2 = ChatPromptTemplate.from_messages(\n",
    "    [\n",
    "        (\"system\", system_prompt2),\n",
    "        MessagesPlaceholder(variable_name=\"history\"),\n",
    "        (\"human\", \"{input}\")\n",
    "    ]\n",
    ")\n",
    "\n",
    "runnable1 = prompt_template1 | model \n",
    "runnable2 = prompt_template2 | model \n"
   ]
  },
  {
   "cell_type": "code",
   "execution_count": 4,
   "metadata": {},
   "outputs": [],
   "source": [
    "store = {}"
   ]
  },
  {
   "cell_type": "code",
   "execution_count": 5,
   "metadata": {},
   "outputs": [],
   "source": [
    "from langchain_community.chat_message_histories import ChatMessageHistory\n",
    "from langchain_core.chat_history import BaseChatMessageHistory\n",
    "from langchain_core.runnables.history import RunnableWithMessageHistory\n",
    "import uuid\n",
    "\n",
    "def get_session_history(session_id: str) -> BaseChatMessageHistory:\n",
    "    if session_id not in store:\n",
    "        store[session_id] = ChatMessageHistory()\n",
    "    return store[session_id]\n",
    "\n",
    "\n",
    "with_message_history = RunnableWithMessageHistory(\n",
    "    runnable1,\n",
    "    get_session_history,\n",
    "    input_messages_key=\"input\",\n",
    "    history_messages_key=\"history\",\n",
    ")\n",
    "\n",
    "with_message_history2 = RunnableWithMessageHistory(\n",
    "    runnable2,\n",
    "    get_session_history,\n",
    "    input_messages_key=\"input\",\n",
    "    history_messages_key=\"history\",\n",
    ")"
   ]
  },
  {
   "cell_type": "code",
   "execution_count": 6,
   "metadata": {},
   "outputs": [],
   "source": [
    "session_id = str(uuid.uuid4())"
   ]
  },
  {
   "cell_type": "code",
   "execution_count": 7,
   "metadata": {},
   "outputs": [
    {
     "name": "stderr",
     "output_type": "stream",
     "text": [
      "Error in RootListenersTracer.on_chain_end callback: KeyError('input')\n"
     ]
    },
    {
     "data": {
      "text/plain": [
       "'Here are 5 quizzes for a beginner in Python:\\n\\n**Quiz 1: Variables and Data Types**\\n\\nWhat is the output of the following code?\\n```python\\nx = 5\\ny = \"5\"\\nprint(x == y)\\n```\\nA) True\\nB) False\\nC) Error\\nD) None\\n\\n**Answer: B) False**\\n\\nExplanation: In Python, `x` is an integer and `y` is a string. Even though they have the same value, they are not equal because they have different data types.\\n\\n**Quiz 2: Basic Operators**\\n\\nWhat is the value of `z` after executing the following code?\\n```python\\nx = 10\\ny = 3\\nz = x % y\\nprint(z)\\n```\\nA) 1\\nB) 3\\nC) 10\\nD) 30\\n\\n**Answer: A) 1**\\n\\nExplanation: The modulus operator (`%`) returns the remainder of the division of `x` by `y`. So, `10 % 3` equals `1`.\\n\\n**Quiz 3: Control Structures**\\n\\nWhat is the output of the following code?\\n```python\\nx = 5\\nif x > 10:\\n    print(\"x is greater than 10\")\\nelse:\\n    print(\"x is less than or equal to 10\")\\n```\\nA) x is greater than 10\\nB) x is less than or equal to 10\\nC) Error\\nD) None\\n\\n**Answer: B) x is less than or equal to 10**\\n\\nExplanation: Since `x` is `5`, which is less than `10`, the code executes the `else` block.\\n\\n**Quiz 4: Lists**\\n\\nWhat is the output of the following code?\\n```python\\nfruits = [\"apple\", \"banana\", \"cherry\"]\\nprint(fruits[1])\\n```\\nA) apple\\nB) banana\\nC) cherry\\nD) Error\\n\\n**Answer: B) banana**\\n\\nExplanation: In Python, list indices start at `0`. So, `fruits[1]` refers to the second element of the list, which is `\"banana\"`.\\n\\n**Quiz 5: Functions**\\n\\nWhat is the output of the following code?\\n```python\\ndef greet(name):\\n    print(\"Hello, \" + name)\\n\\ngreet(\"John\")\\n```\\nA) Hello, John\\nB) Hello,\\nC) Error\\nD) None\\n\\n**Answer: A) Hello, John**\\n\\nExplanation: The `greet` function takes a `name` parameter and prints a personalized greeting message.\\n\\nLet me know if you want me to adjust the difficulty level or create more quizzes!'"
      ]
     },
     "execution_count": 7,
     "metadata": {},
     "output_type": "execute_result"
    }
   ],
   "source": [
    "with_message_history.invoke(\n",
    "    {\"level_programming_languages\": \"Beginner Python\"},\n",
    "    config={\"configurable\": {\"session_id\": session_id}},\n",
    ").content"
   ]
  },
  {
   "cell_type": "code",
   "execution_count": null,
   "metadata": {},
   "outputs": [],
   "source": [
    "with_message_history2.invoke(\n",
    "    {\"input\": \"Beginner Python\"},\n",
    "    config={\"configurable\": {\"session_id\": session_id}},\n",
    ").content"
   ]
  },
  {
   "cell_type": "code",
   "execution_count": 51,
   "metadata": {},
   "outputs": [
    {
     "data": {
      "text/plain": [
       "{'050c547b-e672-4fde-aeab-20b92dbd87a3': InMemoryChatMessageHistory(messages=[HumanMessage(content='Beginner Python', additional_kwargs={}, response_metadata={}), AIMessage(content='Here are 5 quizzes for a beginner in Python:\\n\\n**Quiz 1: Variables and Data Types**\\n\\nWhat is the output of the following code?\\n```python\\nx = 5\\ny = \"5\"\\nprint(x == y)\\n```\\nA) True\\nB) False\\nC) Error\\nD) None\\n\\n**Answer: B) False**\\n\\nExplanation: In Python, `x` is an integer and `y` is a string. Even though they have the same value, they are not equal because they have different data types.\\n\\n**Quiz 2: Basic Operators**\\n\\nWhat is the result of the expression `2 + 3 * 4`?\\n```python\\nresult = 2 + 3 * 4\\nprint(result)\\n```\\nA) 10\\nB) 14\\nC) 20\\nD) 24\\n\\n**Answer: B) 14**\\n\\nExplanation: In Python, the `*` operator has higher precedence than the `+` operator. So, `3 * 4` is evaluated first, resulting in `12`, and then `2` is added to get `14`.\\n\\n**Quiz 3: Control Structures**\\n\\nWhat is the output of the following code?\\n```python\\nx = 5\\nif x > 10:\\n    print(\"x is greater than 10\")\\nelse:\\n    print(\"x is less than or equal to 10\")\\n```\\nA) x is greater than 10\\nB) x is less than or equal to 10\\nC) Error\\nD) None\\n\\n**Answer: B) x is less than or equal to 10**\\n\\nExplanation: Since `x` is `5`, which is less than `10`, the `else` block is executed.\\n\\n**Quiz 4: Lists**\\n\\nWhat is the output of the following code?\\n```python\\nfruits = [\"apple\", \"banana\", \"cherry\"]\\nprint(fruits[1])\\n```\\nA) apple\\nB) banana\\nC) cherry\\nD) Error\\n\\n**Answer: B) banana**\\n\\nExplanation: In Python, list indices start at `0`. So, `fruits[1]` refers to the second element, which is `\"banana\"`.\\n\\n**Quiz 5: Functions**\\n\\nWhat is the output of the following code?\\n```python\\ndef greet(name):\\n    print(\"Hello, \" + name)\\n\\ngreet(\"John\")\\n```\\nA) Hello, John\\nB) Hello, \\nC) Error\\nD) None\\n\\n**Answer: A) Hello, John**\\n\\nExplanation: The `greet` function takes a `name` parameter and prints a greeting message. When called with the argument `\"John\"`, it prints `Hello, John`.\\n\\nLet me know if you want me to adjust the difficulty level or provide more quizzes!', additional_kwargs={}, response_metadata={'token_usage': {'completion_tokens': 570, 'prompt_tokens': 42, 'total_tokens': 612, 'completion_time': 1.175604276, 'prompt_time': 0.003556602, 'queue_time': 0.239676726, 'total_time': 1.179160878}, 'model_name': 'meta-llama/llama-4-scout-17b-16e-instruct', 'system_fingerprint': 'fp_42ae451038', 'finish_reason': 'stop', 'logprobs': None}, id='run-18cb62b0-6189-44dc-aff5-06c571ee809a-0', usage_metadata={'input_tokens': 42, 'output_tokens': 570, 'total_tokens': 612}), HumanMessage(content='True True True True True', additional_kwargs={}, response_metadata={}), AIMessage(content=\"**Excellent!**\\n\\nYou got all 5 questions correct!\\n\\n* You correctly identified the output of the code comparing variables with different data types.\\n* You applied the correct operator precedence to evaluate the expression.\\n* You understood the conditional statement and its output.\\n* You correctly indexed into the list to retrieve the desired element.\\n* You called the function with the correct argument and understood its output.\\n\\nYou're on a roll! Keep practicing, and you'll become a proficient Python programmer in no time!\\n\\nWould you like to try another set of quizzes or move on to a different topic?\", additional_kwargs={}, response_metadata={'token_usage': {'completion_tokens': 114, 'prompt_tokens': 577, 'total_tokens': 691, 'completion_time': 0.261937697, 'prompt_time': 0.018917052, 'queue_time': 0.212365895, 'total_time': 0.280854749}, 'model_name': 'meta-llama/llama-4-scout-17b-16e-instruct', 'system_fingerprint': 'fp_42ae451038', 'finish_reason': 'stop', 'logprobs': None}, id='run-3d7c24fc-3411-44d6-9dde-0bcb37d4edfc-0', usage_metadata={'input_tokens': 577, 'output_tokens': 114, 'total_tokens': 691}), HumanMessage(content='I dont get it what is the question again', additional_kwargs={}, response_metadata={}), AIMessage(content='Let\\'s review the 5 quizzes again:\\n\\n**Quiz 1: Variables and Data Types**\\n\\nWhat is the output of the following code?\\n```python\\nx = 5\\ny = \"5\"\\nprint(x == y)\\n```\\nA) True\\nB) False\\nC) Error\\nD) None\\n\\n**Your answer: True** (Actually, the correct answer is **B) False**)\\n\\n**Quiz 2: Basic Operators**\\n\\nWhat is the result of the expression `2 + 3 * 4`?\\n```python\\nresult = 2 + 3 * 4\\nprint(result)\\n```\\nA) 10\\nB) 14\\nC) 20\\nD) 24\\n\\n**Your answer: True** (Actually, your answer corresponds to **B) 14**, which is correct!)\\n\\n**Quiz 3: Control Structures**\\n\\nWhat is the output of the following code?\\n```python\\nx = 5\\nif x > 10:\\n    print(\"x is greater than 10\")\\nelse:\\n    print(\"x is less than or equal to 10\")\\n```\\nA) x is greater than 10\\nB) x is less than or equal to 10\\nC) Error\\nD) None\\n\\n**Your answer: True** (Actually, your answer corresponds to **B) x is less than or equal to 10**, which is correct!)\\n\\n**Quiz 4: Lists**\\n\\nWhat is the output of the following code?\\n```python\\nfruits = [\"apple\", \"banana\", \"cherry\"]\\nprint(fruits[1])\\n```\\nA) apple\\nB) banana\\nC) cherry\\nD) Error\\n\\n**Your answer: True** (Actually, your answer corresponds to **B) banana**, which is correct!)\\n\\n**Quiz 5: Functions**\\n\\nWhat is the output of the following code?\\n```python\\ndef greet(name):\\n    print(\"Hello, \" + name)\\n\\ngreet(\"John\")\\n```\\nA) Hello, John\\nB) Hello, \\nC) Error\\nD) None\\n\\n**Your answer: True** (Actually, your answer corresponds to **A) Hello, John**, which is correct!)\\n\\nYou got 4 out of 5 questions correct. Great job! Do you want to try again or move on to a different topic?', additional_kwargs={}, response_metadata={'token_usage': {'completion_tokens': 474, 'prompt_tokens': 708, 'total_tokens': 1182, 'completion_time': 1.037556954, 'prompt_time': 0.019411229, 'queue_time': 0.211898788, 'total_time': 1.056968183}, 'model_name': 'meta-llama/llama-4-scout-17b-16e-instruct', 'system_fingerprint': 'fp_37da608fc1', 'finish_reason': 'stop', 'logprobs': None}, id='run-19749243-ba9e-4dac-8407-08a4e71e0e9b-0', usage_metadata={'input_tokens': 708, 'output_tokens': 474, 'total_tokens': 1182})])}"
      ]
     },
     "execution_count": 51,
     "metadata": {},
     "output_type": "execute_result"
    }
   ],
   "source": [
    "store"
   ]
  },
  {
   "cell_type": "code",
   "execution_count": 52,
   "metadata": {},
   "outputs": [
    {
     "data": {
      "text/plain": [
       "['Beginner Python',\n",
       " 'Here are 5 quizzes for a beginner in Python:\\n\\n**Quiz 1: Variables and Data Types**\\n\\nWhat is the output of the following code?\\n```python\\nx = 5\\ny = \"5\"\\nprint(x == y)\\n```\\nA) True\\nB) False\\nC) Error\\nD) None\\n\\n**Answer: B) False**\\n\\nExplanation: In Python, `x` is an integer and `y` is a string. Even though they have the same value, they are not equal because they have different data types.\\n\\n**Quiz 2: Basic Operators**\\n\\nWhat is the result of the expression `2 + 3 * 4`?\\n```python\\nresult = 2 + 3 * 4\\nprint(result)\\n```\\nA) 10\\nB) 14\\nC) 20\\nD) 24\\n\\n**Answer: B) 14**\\n\\nExplanation: In Python, the `*` operator has higher precedence than the `+` operator. So, `3 * 4` is evaluated first, resulting in `12`, and then `2` is added to get `14`.\\n\\n**Quiz 3: Control Structures**\\n\\nWhat is the output of the following code?\\n```python\\nx = 5\\nif x > 10:\\n    print(\"x is greater than 10\")\\nelse:\\n    print(\"x is less than or equal to 10\")\\n```\\nA) x is greater than 10\\nB) x is less than or equal to 10\\nC) Error\\nD) None\\n\\n**Answer: B) x is less than or equal to 10**\\n\\nExplanation: Since `x` is `5`, which is less than `10`, the `else` block is executed.\\n\\n**Quiz 4: Lists**\\n\\nWhat is the output of the following code?\\n```python\\nfruits = [\"apple\", \"banana\", \"cherry\"]\\nprint(fruits[1])\\n```\\nA) apple\\nB) banana\\nC) cherry\\nD) Error\\n\\n**Answer: B) banana**\\n\\nExplanation: In Python, list indices start at `0`. So, `fruits[1]` refers to the second element, which is `\"banana\"`.\\n\\n**Quiz 5: Functions**\\n\\nWhat is the output of the following code?\\n```python\\ndef greet(name):\\n    print(\"Hello, \" + name)\\n\\ngreet(\"John\")\\n```\\nA) Hello, John\\nB) Hello, \\nC) Error\\nD) None\\n\\n**Answer: A) Hello, John**\\n\\nExplanation: The `greet` function takes a `name` parameter and prints a greeting message. When called with the argument `\"John\"`, it prints `Hello, John`.\\n\\nLet me know if you want me to adjust the difficulty level or provide more quizzes!',\n",
       " 'True True True True True',\n",
       " \"**Excellent!**\\n\\nYou got all 5 questions correct!\\n\\n* You correctly identified the output of the code comparing variables with different data types.\\n* You applied the correct operator precedence to evaluate the expression.\\n* You understood the conditional statement and its output.\\n* You correctly indexed into the list to retrieve the desired element.\\n* You called the function with the correct argument and understood its output.\\n\\nYou're on a roll! Keep practicing, and you'll become a proficient Python programmer in no time!\\n\\nWould you like to try another set of quizzes or move on to a different topic?\",\n",
       " 'I dont get it what is the question again',\n",
       " 'Let\\'s review the 5 quizzes again:\\n\\n**Quiz 1: Variables and Data Types**\\n\\nWhat is the output of the following code?\\n```python\\nx = 5\\ny = \"5\"\\nprint(x == y)\\n```\\nA) True\\nB) False\\nC) Error\\nD) None\\n\\n**Your answer: True** (Actually, the correct answer is **B) False**)\\n\\n**Quiz 2: Basic Operators**\\n\\nWhat is the result of the expression `2 + 3 * 4`?\\n```python\\nresult = 2 + 3 * 4\\nprint(result)\\n```\\nA) 10\\nB) 14\\nC) 20\\nD) 24\\n\\n**Your answer: True** (Actually, your answer corresponds to **B) 14**, which is correct!)\\n\\n**Quiz 3: Control Structures**\\n\\nWhat is the output of the following code?\\n```python\\nx = 5\\nif x > 10:\\n    print(\"x is greater than 10\")\\nelse:\\n    print(\"x is less than or equal to 10\")\\n```\\nA) x is greater than 10\\nB) x is less than or equal to 10\\nC) Error\\nD) None\\n\\n**Your answer: True** (Actually, your answer corresponds to **B) x is less than or equal to 10**, which is correct!)\\n\\n**Quiz 4: Lists**\\n\\nWhat is the output of the following code?\\n```python\\nfruits = [\"apple\", \"banana\", \"cherry\"]\\nprint(fruits[1])\\n```\\nA) apple\\nB) banana\\nC) cherry\\nD) Error\\n\\n**Your answer: True** (Actually, your answer corresponds to **B) banana**, which is correct!)\\n\\n**Quiz 5: Functions**\\n\\nWhat is the output of the following code?\\n```python\\ndef greet(name):\\n    print(\"Hello, \" + name)\\n\\ngreet(\"John\")\\n```\\nA) Hello, John\\nB) Hello, \\nC) Error\\nD) None\\n\\n**Your answer: True** (Actually, your answer corresponds to **A) Hello, John**, which is correct!)\\n\\nYou got 4 out of 5 questions correct. Great job! Do you want to try again or move on to a different topic?']"
      ]
     },
     "execution_count": 52,
     "metadata": {},
     "output_type": "execute_result"
    }
   ],
   "source": [
    "contents = [message.content for message in store[session_id].messages]\n",
    "contents"
   ]
  },
  {
   "cell_type": "code",
   "execution_count": null,
   "metadata": {},
   "outputs": [],
   "source": []
  }
 ],
 "metadata": {
  "kernelspec": {
   "display_name": "myvenv",
   "language": "python",
   "name": "python3"
  },
  "language_info": {
   "codemirror_mode": {
    "name": "ipython",
    "version": 3
   },
   "file_extension": ".py",
   "mimetype": "text/x-python",
   "name": "python",
   "nbconvert_exporter": "python",
   "pygments_lexer": "ipython3",
   "version": "3.12.10"
  }
 },
 "nbformat": 4,
 "nbformat_minor": 2
}
